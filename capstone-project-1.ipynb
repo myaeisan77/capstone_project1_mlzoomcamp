{
 "cells": [
  {
   "cell_type": "code",
   "execution_count": 1,
   "id": "736b705d",
   "metadata": {
    "execution": {
     "iopub.execute_input": "2023-12-20T21:46:39.388136Z",
     "iopub.status.busy": "2023-12-20T21:46:39.387709Z",
     "iopub.status.idle": "2023-12-20T21:46:42.325539Z",
     "shell.execute_reply": "2023-12-20T21:46:42.324449Z"
    },
    "papermill": {
     "duration": 2.958164,
     "end_time": "2023-12-20T21:46:42.328353",
     "exception": false,
     "start_time": "2023-12-20T21:46:39.370189",
     "status": "completed"
    },
    "tags": []
   },
   "outputs": [
    {
     "name": "stderr",
     "output_type": "stream",
     "text": [
      "/opt/conda/lib/python3.10/site-packages/scipy/__init__.py:146: UserWarning: A NumPy version >=1.16.5 and <1.23.0 is required for this version of SciPy (detected version 1.23.5\n",
      "  warnings.warn(f\"A NumPy version >={np_minversion} and <{np_maxversion}\"\n"
     ]
    }
   ],
   "source": [
    "import numpy as np \n",
    "import pandas as pd \n",
    "import seaborn as sns\n",
    "import plotly.express as px\n",
    "import matplotlib.pyplot as plt\n",
    "from matplotlib import style\n",
    "%matplotlib inline\n",
    "import warnings\n",
    "warnings.filterwarnings('ignore')"
   ]
  },
  {
   "cell_type": "code",
   "execution_count": 2,
   "id": "c71684a7",
   "metadata": {
    "execution": {
     "iopub.execute_input": "2023-12-20T21:46:42.363841Z",
     "iopub.status.busy": "2023-12-20T21:46:42.362758Z",
     "iopub.status.idle": "2023-12-20T21:46:42.412149Z",
     "shell.execute_reply": "2023-12-20T21:46:42.410928Z"
    },
    "papermill": {
     "duration": 0.069862,
     "end_time": "2023-12-20T21:46:42.415512",
     "exception": false,
     "start_time": "2023-12-20T21:46:42.345650",
     "status": "completed"
    },
    "tags": []
   },
   "outputs": [],
   "source": [
    "df = pd.read_csv('/kaggle/input/consumer-behavior-and-shopping-habits-dataset/shopping_behavior_updated.csv')"
   ]
  },
  {
   "cell_type": "markdown",
   "id": "b6e1d55a",
   "metadata": {
    "papermill": {
     "duration": 0.015617,
     "end_time": "2023-12-20T21:46:42.449418",
     "exception": false,
     "start_time": "2023-12-20T21:46:42.433801",
     "status": "completed"
    },
    "tags": []
   },
   "source": [
    "\n",
    "\n",
    "# Data Prepration and Cleaning"
   ]
  },
  {
   "cell_type": "code",
   "execution_count": 3,
   "id": "1f5a247f",
   "metadata": {
    "execution": {
     "iopub.execute_input": "2023-12-20T21:46:42.482459Z",
     "iopub.status.busy": "2023-12-20T21:46:42.482039Z",
     "iopub.status.idle": "2023-12-20T21:46:42.514619Z",
     "shell.execute_reply": "2023-12-20T21:46:42.513606Z"
    },
    "papermill": {
     "duration": 0.052433,
     "end_time": "2023-12-20T21:46:42.517538",
     "exception": false,
     "start_time": "2023-12-20T21:46:42.465105",
     "status": "completed"
    },
    "tags": []
   },
   "outputs": [
    {
     "data": {
      "text/html": [
       "<div>\n",
       "<style scoped>\n",
       "    .dataframe tbody tr th:only-of-type {\n",
       "        vertical-align: middle;\n",
       "    }\n",
       "\n",
       "    .dataframe tbody tr th {\n",
       "        vertical-align: top;\n",
       "    }\n",
       "\n",
       "    .dataframe thead th {\n",
       "        text-align: right;\n",
       "    }\n",
       "</style>\n",
       "<table border=\"1\" class=\"dataframe\">\n",
       "  <thead>\n",
       "    <tr style=\"text-align: right;\">\n",
       "      <th></th>\n",
       "      <th>Customer ID</th>\n",
       "      <th>Age</th>\n",
       "      <th>Gender</th>\n",
       "      <th>Item Purchased</th>\n",
       "      <th>Category</th>\n",
       "      <th>Purchase Amount (USD)</th>\n",
       "      <th>Location</th>\n",
       "      <th>Size</th>\n",
       "      <th>Color</th>\n",
       "      <th>Season</th>\n",
       "      <th>Review Rating</th>\n",
       "      <th>Subscription Status</th>\n",
       "      <th>Shipping Type</th>\n",
       "      <th>Discount Applied</th>\n",
       "      <th>Promo Code Used</th>\n",
       "      <th>Previous Purchases</th>\n",
       "      <th>Payment Method</th>\n",
       "      <th>Frequency of Purchases</th>\n",
       "    </tr>\n",
       "  </thead>\n",
       "  <tbody>\n",
       "    <tr>\n",
       "      <th>0</th>\n",
       "      <td>1</td>\n",
       "      <td>55</td>\n",
       "      <td>Male</td>\n",
       "      <td>Blouse</td>\n",
       "      <td>Clothing</td>\n",
       "      <td>53</td>\n",
       "      <td>Kentucky</td>\n",
       "      <td>L</td>\n",
       "      <td>Gray</td>\n",
       "      <td>Winter</td>\n",
       "      <td>3.1</td>\n",
       "      <td>Yes</td>\n",
       "      <td>Express</td>\n",
       "      <td>Yes</td>\n",
       "      <td>Yes</td>\n",
       "      <td>14</td>\n",
       "      <td>Venmo</td>\n",
       "      <td>Fortnightly</td>\n",
       "    </tr>\n",
       "    <tr>\n",
       "      <th>1</th>\n",
       "      <td>2</td>\n",
       "      <td>19</td>\n",
       "      <td>Male</td>\n",
       "      <td>Sweater</td>\n",
       "      <td>Clothing</td>\n",
       "      <td>64</td>\n",
       "      <td>Maine</td>\n",
       "      <td>L</td>\n",
       "      <td>Maroon</td>\n",
       "      <td>Winter</td>\n",
       "      <td>3.1</td>\n",
       "      <td>Yes</td>\n",
       "      <td>Express</td>\n",
       "      <td>Yes</td>\n",
       "      <td>Yes</td>\n",
       "      <td>2</td>\n",
       "      <td>Cash</td>\n",
       "      <td>Fortnightly</td>\n",
       "    </tr>\n",
       "    <tr>\n",
       "      <th>2</th>\n",
       "      <td>3</td>\n",
       "      <td>50</td>\n",
       "      <td>Male</td>\n",
       "      <td>Jeans</td>\n",
       "      <td>Clothing</td>\n",
       "      <td>73</td>\n",
       "      <td>Massachusetts</td>\n",
       "      <td>S</td>\n",
       "      <td>Maroon</td>\n",
       "      <td>Spring</td>\n",
       "      <td>3.1</td>\n",
       "      <td>Yes</td>\n",
       "      <td>Free Shipping</td>\n",
       "      <td>Yes</td>\n",
       "      <td>Yes</td>\n",
       "      <td>23</td>\n",
       "      <td>Credit Card</td>\n",
       "      <td>Weekly</td>\n",
       "    </tr>\n",
       "    <tr>\n",
       "      <th>3</th>\n",
       "      <td>4</td>\n",
       "      <td>21</td>\n",
       "      <td>Male</td>\n",
       "      <td>Sandals</td>\n",
       "      <td>Footwear</td>\n",
       "      <td>90</td>\n",
       "      <td>Rhode Island</td>\n",
       "      <td>M</td>\n",
       "      <td>Maroon</td>\n",
       "      <td>Spring</td>\n",
       "      <td>3.5</td>\n",
       "      <td>Yes</td>\n",
       "      <td>Next Day Air</td>\n",
       "      <td>Yes</td>\n",
       "      <td>Yes</td>\n",
       "      <td>49</td>\n",
       "      <td>PayPal</td>\n",
       "      <td>Weekly</td>\n",
       "    </tr>\n",
       "    <tr>\n",
       "      <th>4</th>\n",
       "      <td>5</td>\n",
       "      <td>45</td>\n",
       "      <td>Male</td>\n",
       "      <td>Blouse</td>\n",
       "      <td>Clothing</td>\n",
       "      <td>49</td>\n",
       "      <td>Oregon</td>\n",
       "      <td>M</td>\n",
       "      <td>Turquoise</td>\n",
       "      <td>Spring</td>\n",
       "      <td>2.7</td>\n",
       "      <td>Yes</td>\n",
       "      <td>Free Shipping</td>\n",
       "      <td>Yes</td>\n",
       "      <td>Yes</td>\n",
       "      <td>31</td>\n",
       "      <td>PayPal</td>\n",
       "      <td>Annually</td>\n",
       "    </tr>\n",
       "  </tbody>\n",
       "</table>\n",
       "</div>"
      ],
      "text/plain": [
       "   Customer ID  Age Gender Item Purchased  Category  Purchase Amount (USD)  \\\n",
       "0            1   55   Male         Blouse  Clothing                     53   \n",
       "1            2   19   Male        Sweater  Clothing                     64   \n",
       "2            3   50   Male          Jeans  Clothing                     73   \n",
       "3            4   21   Male        Sandals  Footwear                     90   \n",
       "4            5   45   Male         Blouse  Clothing                     49   \n",
       "\n",
       "        Location Size      Color  Season  Review Rating Subscription Status  \\\n",
       "0       Kentucky    L       Gray  Winter            3.1                 Yes   \n",
       "1          Maine    L     Maroon  Winter            3.1                 Yes   \n",
       "2  Massachusetts    S     Maroon  Spring            3.1                 Yes   \n",
       "3   Rhode Island    M     Maroon  Spring            3.5                 Yes   \n",
       "4         Oregon    M  Turquoise  Spring            2.7                 Yes   \n",
       "\n",
       "   Shipping Type Discount Applied Promo Code Used  Previous Purchases  \\\n",
       "0        Express              Yes             Yes                  14   \n",
       "1        Express              Yes             Yes                   2   \n",
       "2  Free Shipping              Yes             Yes                  23   \n",
       "3   Next Day Air              Yes             Yes                  49   \n",
       "4  Free Shipping              Yes             Yes                  31   \n",
       "\n",
       "  Payment Method Frequency of Purchases  \n",
       "0          Venmo            Fortnightly  \n",
       "1           Cash            Fortnightly  \n",
       "2    Credit Card                 Weekly  \n",
       "3         PayPal                 Weekly  \n",
       "4         PayPal               Annually  "
      ]
     },
     "execution_count": 3,
     "metadata": {},
     "output_type": "execute_result"
    }
   ],
   "source": [
    "df.head(5)"
   ]
  },
  {
   "cell_type": "code",
   "execution_count": 4,
   "id": "f873c891",
   "metadata": {
    "execution": {
     "iopub.execute_input": "2023-12-20T21:46:42.553714Z",
     "iopub.status.busy": "2023-12-20T21:46:42.553348Z",
     "iopub.status.idle": "2023-12-20T21:46:42.566152Z",
     "shell.execute_reply": "2023-12-20T21:46:42.565202Z"
    },
    "papermill": {
     "duration": 0.033072,
     "end_time": "2023-12-20T21:46:42.568589",
     "exception": false,
     "start_time": "2023-12-20T21:46:42.535517",
     "status": "completed"
    },
    "tags": []
   },
   "outputs": [],
   "source": [
    "columns_to_drop = [\"Age\", \"Gender\", \"Size\", \"Subscription Status\", \"Discount Applied\", \"Promo Code Used\",\"Shipping Type\", \"Color\", \"Review Rating\",\"Payment Method\",\"Frequency of Purchases\"]\n",
    "df.drop(columns=columns_to_drop, inplace=True)\n"
   ]
  },
  {
   "cell_type": "code",
   "execution_count": 5,
   "id": "0415323d",
   "metadata": {
    "execution": {
     "iopub.execute_input": "2023-12-20T21:46:42.603842Z",
     "iopub.status.busy": "2023-12-20T21:46:42.603040Z",
     "iopub.status.idle": "2023-12-20T21:46:42.609419Z",
     "shell.execute_reply": "2023-12-20T21:46:42.608523Z"
    },
    "papermill": {
     "duration": 0.025166,
     "end_time": "2023-12-20T21:46:42.611478",
     "exception": false,
     "start_time": "2023-12-20T21:46:42.586312",
     "status": "completed"
    },
    "tags": []
   },
   "outputs": [
    {
     "data": {
      "text/plain": [
       "(3900, 7)"
      ]
     },
     "execution_count": 5,
     "metadata": {},
     "output_type": "execute_result"
    }
   ],
   "source": [
    "df.shape"
   ]
  },
  {
   "cell_type": "code",
   "execution_count": 6,
   "id": "f7aafbae",
   "metadata": {
    "execution": {
     "iopub.execute_input": "2023-12-20T21:46:42.649715Z",
     "iopub.status.busy": "2023-12-20T21:46:42.648755Z",
     "iopub.status.idle": "2023-12-20T21:46:42.657358Z",
     "shell.execute_reply": "2023-12-20T21:46:42.656117Z"
    },
    "papermill": {
     "duration": 0.036124,
     "end_time": "2023-12-20T21:46:42.663015",
     "exception": false,
     "start_time": "2023-12-20T21:46:42.626891",
     "status": "completed"
    },
    "tags": []
   },
   "outputs": [
    {
     "data": {
      "text/plain": [
       "Index(['Customer ID', 'Item Purchased', 'Category', 'Purchase Amount (USD)',\n",
       "       'Location', 'Season', 'Previous Purchases'],\n",
       "      dtype='object')"
      ]
     },
     "execution_count": 6,
     "metadata": {},
     "output_type": "execute_result"
    }
   ],
   "source": [
    "df.columns"
   ]
  },
  {
   "cell_type": "code",
   "execution_count": 7,
   "id": "1577b1a4",
   "metadata": {
    "execution": {
     "iopub.execute_input": "2023-12-20T21:46:42.705252Z",
     "iopub.status.busy": "2023-12-20T21:46:42.704367Z",
     "iopub.status.idle": "2023-12-20T21:46:42.711833Z",
     "shell.execute_reply": "2023-12-20T21:46:42.710788Z"
    },
    "papermill": {
     "duration": 0.028369,
     "end_time": "2023-12-20T21:46:42.714173",
     "exception": false,
     "start_time": "2023-12-20T21:46:42.685804",
     "status": "completed"
    },
    "tags": []
   },
   "outputs": [],
   "source": [
    "df.rename(columns={'Purchase Amount (USD)': 'Purchase Amount USD'}, inplace=True)"
   ]
  },
  {
   "cell_type": "code",
   "execution_count": 8,
   "id": "ef6dd78f",
   "metadata": {
    "execution": {
     "iopub.execute_input": "2023-12-20T21:46:42.749417Z",
     "iopub.status.busy": "2023-12-20T21:46:42.748533Z",
     "iopub.status.idle": "2023-12-20T21:46:42.766040Z",
     "shell.execute_reply": "2023-12-20T21:46:42.765034Z"
    },
    "papermill": {
     "duration": 0.037567,
     "end_time": "2023-12-20T21:46:42.768301",
     "exception": false,
     "start_time": "2023-12-20T21:46:42.730734",
     "status": "completed"
    },
    "tags": []
   },
   "outputs": [],
   "source": [
    "df.columns = df.columns.str.replace(' ', '_')\n",
    "\n",
    "string_columns = list(df.dtypes[df.dtypes == 'object'].index)\n",
    "\n",
    "for col in string_columns:\n",
    "    df[col] = df[col].str.replace(' ', '_')"
   ]
  },
  {
   "cell_type": "code",
   "execution_count": 9,
   "id": "bd70c4e7",
   "metadata": {
    "execution": {
     "iopub.execute_input": "2023-12-20T21:46:42.801510Z",
     "iopub.status.busy": "2023-12-20T21:46:42.800706Z",
     "iopub.status.idle": "2023-12-20T21:46:42.823140Z",
     "shell.execute_reply": "2023-12-20T21:46:42.822136Z"
    },
    "papermill": {
     "duration": 0.041304,
     "end_time": "2023-12-20T21:46:42.825384",
     "exception": false,
     "start_time": "2023-12-20T21:46:42.784080",
     "status": "completed"
    },
    "tags": []
   },
   "outputs": [
    {
     "data": {
      "text/plain": [
       "Customer_ID            3900\n",
       "Item_Purchased           25\n",
       "Category                  4\n",
       "Purchase_Amount_USD      81\n",
       "Location                 50\n",
       "Season                    4\n",
       "Previous_Purchases       50\n",
       "dtype: int64"
      ]
     },
     "execution_count": 9,
     "metadata": {},
     "output_type": "execute_result"
    }
   ],
   "source": [
    "df.nunique()"
   ]
  },
  {
   "cell_type": "code",
   "execution_count": 10,
   "id": "d60f3ace",
   "metadata": {
    "execution": {
     "iopub.execute_input": "2023-12-20T21:46:42.859910Z",
     "iopub.status.busy": "2023-12-20T21:46:42.859526Z",
     "iopub.status.idle": "2023-12-20T21:46:42.870314Z",
     "shell.execute_reply": "2023-12-20T21:46:42.869255Z"
    },
    "papermill": {
     "duration": 0.030713,
     "end_time": "2023-12-20T21:46:42.872621",
     "exception": false,
     "start_time": "2023-12-20T21:46:42.841908",
     "status": "completed"
    },
    "tags": []
   },
   "outputs": [
    {
     "data": {
      "text/plain": [
       "Customer_ID            0\n",
       "Item_Purchased         0\n",
       "Category               0\n",
       "Purchase_Amount_USD    0\n",
       "Location               0\n",
       "Season                 0\n",
       "Previous_Purchases     0\n",
       "dtype: int64"
      ]
     },
     "execution_count": 10,
     "metadata": {},
     "output_type": "execute_result"
    }
   ],
   "source": [
    "df.isnull().sum()"
   ]
  },
  {
   "cell_type": "code",
   "execution_count": 11,
   "id": "ad896a32",
   "metadata": {
    "execution": {
     "iopub.execute_input": "2023-12-20T21:46:42.953639Z",
     "iopub.status.busy": "2023-12-20T21:46:42.953226Z",
     "iopub.status.idle": "2023-12-20T21:46:42.963513Z",
     "shell.execute_reply": "2023-12-20T21:46:42.962155Z"
    },
    "papermill": {
     "duration": 0.029544,
     "end_time": "2023-12-20T21:46:42.965563",
     "exception": false,
     "start_time": "2023-12-20T21:46:42.936019",
     "status": "completed"
    },
    "tags": []
   },
   "outputs": [
    {
     "name": "stdout",
     "output_type": "stream",
     "text": [
      "0\n"
     ]
    }
   ],
   "source": [
    "#Checking for duplicates \n",
    "value=len(df[df.duplicated()])\n",
    "print(value) "
   ]
  },
  {
   "cell_type": "code",
   "execution_count": 12,
   "id": "bbdebf03",
   "metadata": {
    "execution": {
     "iopub.execute_input": "2023-12-20T21:46:43.002144Z",
     "iopub.status.busy": "2023-12-20T21:46:43.001837Z",
     "iopub.status.idle": "2023-12-20T21:46:43.027231Z",
     "shell.execute_reply": "2023-12-20T21:46:43.026208Z"
    },
    "papermill": {
     "duration": 0.046445,
     "end_time": "2023-12-20T21:46:43.029331",
     "exception": false,
     "start_time": "2023-12-20T21:46:42.982886",
     "status": "completed"
    },
    "tags": []
   },
   "outputs": [
    {
     "data": {
      "text/html": [
       "<div>\n",
       "<style scoped>\n",
       "    .dataframe tbody tr th:only-of-type {\n",
       "        vertical-align: middle;\n",
       "    }\n",
       "\n",
       "    .dataframe tbody tr th {\n",
       "        vertical-align: top;\n",
       "    }\n",
       "\n",
       "    .dataframe thead th {\n",
       "        text-align: right;\n",
       "    }\n",
       "</style>\n",
       "<table border=\"1\" class=\"dataframe\">\n",
       "  <thead>\n",
       "    <tr style=\"text-align: right;\">\n",
       "      <th></th>\n",
       "      <th>count</th>\n",
       "      <th>mean</th>\n",
       "      <th>std</th>\n",
       "      <th>min</th>\n",
       "      <th>25%</th>\n",
       "      <th>50%</th>\n",
       "      <th>75%</th>\n",
       "      <th>max</th>\n",
       "    </tr>\n",
       "  </thead>\n",
       "  <tbody>\n",
       "    <tr>\n",
       "      <th>Customer_ID</th>\n",
       "      <td>3900.0</td>\n",
       "      <td>1950.500000</td>\n",
       "      <td>1125.977353</td>\n",
       "      <td>1.0</td>\n",
       "      <td>975.75</td>\n",
       "      <td>1950.5</td>\n",
       "      <td>2925.25</td>\n",
       "      <td>3900.0</td>\n",
       "    </tr>\n",
       "    <tr>\n",
       "      <th>Purchase_Amount_USD</th>\n",
       "      <td>3900.0</td>\n",
       "      <td>59.764359</td>\n",
       "      <td>23.685392</td>\n",
       "      <td>20.0</td>\n",
       "      <td>39.00</td>\n",
       "      <td>60.0</td>\n",
       "      <td>81.00</td>\n",
       "      <td>100.0</td>\n",
       "    </tr>\n",
       "    <tr>\n",
       "      <th>Previous_Purchases</th>\n",
       "      <td>3900.0</td>\n",
       "      <td>25.351538</td>\n",
       "      <td>14.447125</td>\n",
       "      <td>1.0</td>\n",
       "      <td>13.00</td>\n",
       "      <td>25.0</td>\n",
       "      <td>38.00</td>\n",
       "      <td>50.0</td>\n",
       "    </tr>\n",
       "  </tbody>\n",
       "</table>\n",
       "</div>"
      ],
      "text/plain": [
       "                      count         mean          std   min     25%     50%  \\\n",
       "Customer_ID          3900.0  1950.500000  1125.977353   1.0  975.75  1950.5   \n",
       "Purchase_Amount_USD  3900.0    59.764359    23.685392  20.0   39.00    60.0   \n",
       "Previous_Purchases   3900.0    25.351538    14.447125   1.0   13.00    25.0   \n",
       "\n",
       "                         75%     max  \n",
       "Customer_ID          2925.25  3900.0  \n",
       "Purchase_Amount_USD    81.00   100.0  \n",
       "Previous_Purchases     38.00    50.0  "
      ]
     },
     "execution_count": 12,
     "metadata": {},
     "output_type": "execute_result"
    }
   ],
   "source": [
    "df.describe().T"
   ]
  },
  {
   "cell_type": "code",
   "execution_count": 13,
   "id": "c8362c95",
   "metadata": {
    "execution": {
     "iopub.execute_input": "2023-12-20T21:46:43.062478Z",
     "iopub.status.busy": "2023-12-20T21:46:43.062149Z",
     "iopub.status.idle": "2023-12-20T21:46:43.511642Z",
     "shell.execute_reply": "2023-12-20T21:46:43.510518Z"
    },
    "papermill": {
     "duration": 0.468793,
     "end_time": "2023-12-20T21:46:43.513972",
     "exception": false,
     "start_time": "2023-12-20T21:46:43.045179",
     "status": "completed"
    },
    "tags": []
   },
   "outputs": [
    {
     "data": {
      "text/plain": [
       "<Axes: xlabel='Purchase_Amount_USD', ylabel='Count'>"
      ]
     },
     "execution_count": 13,
     "metadata": {},
     "output_type": "execute_result"
    },
    {
     "data": {
      "image/png": "[encoded data removed]",
      "text/plain": [
       "<Figure size 640x480 with 1 Axes>"
      ]
     },
     "metadata": {},
     "output_type": "display_data"
    }
   ],
   "source": [
    "sns.histplot(df.Purchase_Amount_USD, bins=50)"
   ]
  },
  {
   "cell_type": "code",
   "execution_count": 14,
   "id": "c060d935",
   "metadata": {
    "execution": {
     "iopub.execute_input": "2023-12-20T21:46:43.550142Z",
     "iopub.status.busy": "2023-12-20T21:46:43.549742Z",
     "iopub.status.idle": "2023-12-20T21:46:43.564402Z",
     "shell.execute_reply": "2023-12-20T21:46:43.563266Z"
    },
    "papermill": {
     "duration": 0.03538,
     "end_time": "2023-12-20T21:46:43.566690",
     "exception": false,
     "start_time": "2023-12-20T21:46:43.531310",
     "status": "completed"
    },
    "tags": []
   },
   "outputs": [
    {
     "name": "stdout",
     "output_type": "stream",
     "text": [
      "Regional Category Trends:\n",
      " Location   Category   \n",
      "Alabama    Clothing       41\n",
      "           Accessories    25\n",
      "           Footwear       15\n",
      "           Outerwear       8\n",
      "Alaska     Clothing       33\n",
      "                          ..\n",
      "Wisconsin  Outerwear       3\n",
      "Wyoming    Clothing       31\n",
      "           Accessories    23\n",
      "           Footwear       11\n",
      "           Outerwear       6\n",
      "Name: count, Length: 200, dtype: int64\n"
     ]
    }
   ],
   "source": [
    "category_counts = df.groupby(\"Location\")[\"Category\"].value_counts()\n",
    "print(\"Regional Category Trends:\\n\", category_counts)"
   ]
  },
  {
   "cell_type": "code",
   "execution_count": 15,
   "id": "6a025103",
   "metadata": {
    "execution": {
     "iopub.execute_input": "2023-12-20T21:46:43.601272Z",
     "iopub.status.busy": "2023-12-20T21:46:43.600965Z",
     "iopub.status.idle": "2023-12-20T21:46:43.621175Z",
     "shell.execute_reply": "2023-12-20T21:46:43.619925Z"
    },
    "papermill": {
     "duration": 0.040644,
     "end_time": "2023-12-20T21:46:43.623503",
     "exception": false,
     "start_time": "2023-12-20T21:46:43.582859",
     "status": "completed"
    },
    "tags": []
   },
   "outputs": [
    {
     "name": "stdout",
     "output_type": "stream",
     "text": [
      "Regional Purchase Amount Stats:\n",
      "                      mean  median   sum\n",
      "Location                               \n",
      "Alabama         59.112360    56.0  5261\n",
      "Alaska          67.597222    68.5  4867\n",
      "Arizona         66.553846    68.0  4326\n",
      "Arkansas        61.113924    58.0  4828\n",
      "California      59.000000    57.0  5605\n",
      "Colorado        56.293333    51.0  4222\n",
      "Connecticut     54.179487    48.5  4226\n",
      "Delaware        55.325581    52.5  4758\n",
      "Florida         55.852941    56.0  3798\n",
      "Georgia         58.797468    62.0  4645\n",
      "Hawaii          57.723077    55.0  3752\n",
      "Idaho           60.075269    62.0  5587\n",
      "Illinois        61.054348    65.0  5617\n",
      "Indiana         58.924051    60.0  4655\n",
      "Iowa            60.884058    60.0  4201\n",
      "Kansas          54.555556    50.0  3437\n",
      "Kentucky        55.721519    53.0  4402\n",
      "Louisiana       57.714286    55.5  4848\n",
      "Maine           56.987013    57.0  4388\n",
      "Maryland        55.755814    52.0  4795\n",
      "Massachusetts   60.888889    64.0  4384\n",
      "Michigan        62.095890    63.0  4533\n",
      "Minnesota       56.556818    53.0  4977\n",
      "Mississippi     61.037500    64.0  4883\n",
      "Missouri        57.913580    61.0  4691\n",
      "Montana         60.250000    64.0  5784\n",
      "Nebraska        59.448276    58.0  5172\n",
      "Nevada          63.379310    66.0  5514\n",
      "New_Hampshire   59.422535    59.0  4219\n",
      "New_Jersey      56.746269    51.0  3802\n",
      "New_Mexico      61.901235    63.0  5014\n",
      "New_York        60.425287    62.0  5257\n",
      "North_Carolina  60.794872    62.5  4742\n",
      "North_Dakota    62.891566    64.0  5220\n",
      "Ohio            60.376623    66.0  4649\n",
      "Oklahoma        58.346667    60.0  4376\n",
      "Oregon          57.337838    54.0  4243\n",
      "Pennsylvania    66.567568    70.0  4926\n",
      "Rhode_Island    61.444444    63.0  3871\n",
      "South_Carolina  58.407895    59.0  4439\n",
      "South_Dakota    60.514286    62.0  4236\n",
      "Tennessee       61.974026    61.0  4772\n",
      "Texas           61.194805    62.0  4712\n",
      "Utah            62.577465    65.0  4443\n",
      "Vermont         57.176471    54.0  4860\n",
      "Virginia        62.883117    62.0  4842\n",
      "Washington      63.328767    63.0  4623\n",
      "West_Virginia   63.876543    66.0  5174\n",
      "Wisconsin       55.946667    55.0  4196\n",
      "Wyoming         60.690141    60.0  4309\n"
     ]
    }
   ],
   "source": [
    "location_purchase_stats = df.groupby(\"Location\")[\"Purchase_Amount_USD\"].agg([\"mean\", \"median\", \"sum\"])\n",
    "print(\"Regional Purchase Amount Stats:\\n\", location_purchase_stats)"
   ]
  },
  {
   "cell_type": "code",
   "execution_count": 16,
   "id": "2755defc",
   "metadata": {
    "execution": {
     "iopub.execute_input": "2023-12-20T21:46:43.659694Z",
     "iopub.status.busy": "2023-12-20T21:46:43.659364Z",
     "iopub.status.idle": "2023-12-20T21:46:44.092694Z",
     "shell.execute_reply": "2023-12-20T21:46:44.091607Z"
    },
    "papermill": {
     "duration": 0.454271,
     "end_time": "2023-12-20T21:46:44.095156",
     "exception": false,
     "start_time": "2023-12-20T21:46:43.640885",
     "status": "completed"
    },
    "tags": []
   },
   "outputs": [
    {
     "data": {
      "image/png": "[encoded data removed]",
      "text/plain": [
       "<Figure size 1000x600 with 1 Axes>"
      ]
     },
     "metadata": {},
     "output_type": "display_data"
    }
   ],
   "source": [
    "category_counts = df['Category'].value_counts()\n",
    "\n",
    "# Define a list of different colors for each bar\n",
    "colors = ['skyblue', 'lightcoral', 'lightseagreen', 'lightsalmon', 'lightpink']\n",
    "\n",
    "# Create a figure and axis\n",
    "plt.figure(figsize=(10, 6))\n",
    "ax = plt.gca()\n",
    "\n",
    "# Plot the bar chart with different colors for each bar\n",
    "bars = plt.bar(category_counts.index, category_counts.values, color=colors)\n",
    "\n",
    "# Add labels and title\n",
    "plt.xlabel('Product Categories')\n",
    "plt.ylabel('Count')\n",
    "plt.title('Distribution of Product Categories')\n",
    "plt.xticks(rotation=90)\n",
    "\n",
    "# Display the chart\n",
    "plt.tight_layout()\n",
    "\n",
    "legend_labels = category_counts.index[:len(colors)]  # Take labels for the number of colors used\n",
    "legend = plt.legend(bars[:len(colors)], legend_labels, title='Categories', loc='upper right')\n",
    "plt.setp(legend.get_title(), fontsize=12)\n",
    "\n",
    "plt.show()"
   ]
  },
  {
   "cell_type": "markdown",
   "id": "d8466a67",
   "metadata": {
    "papermill": {
     "duration": 0.017639,
     "end_time": "2023-12-20T21:46:44.131087",
     "exception": false,
     "start_time": "2023-12-20T21:46:44.113448",
     "status": "completed"
    },
    "tags": []
   },
   "source": [
    "<right>\n",
    "<h4 style=\"color:Balck; font-size:20px; font-family:Roman; border-radius: 20px;\"> Clothing is the most popular categories among consumers."
   ]
  },
  {
   "cell_type": "code",
   "execution_count": 17,
   "id": "13e45965",
   "metadata": {
    "execution": {
     "iopub.execute_input": "2023-12-20T21:46:44.167827Z",
     "iopub.status.busy": "2023-12-20T21:46:44.167424Z",
     "iopub.status.idle": "2023-12-20T21:46:44.325209Z",
     "shell.execute_reply": "2023-12-20T21:46:44.324211Z"
    },
    "papermill": {
     "duration": 0.179173,
     "end_time": "2023-12-20T21:46:44.327822",
     "exception": false,
     "start_time": "2023-12-20T21:46:44.148649",
     "status": "completed"
    },
    "tags": []
   },
   "outputs": [],
   "source": [
    "from sklearn.feature_extraction import DictVectorizer"
   ]
  },
  {
   "cell_type": "code",
   "execution_count": 18,
   "id": "df2fe277",
   "metadata": {
    "execution": {
     "iopub.execute_input": "2023-12-20T21:46:44.367156Z",
     "iopub.status.busy": "2023-12-20T21:46:44.366769Z",
     "iopub.status.idle": "2023-12-20T21:46:44.387467Z",
     "shell.execute_reply": "2023-12-20T21:46:44.386423Z"
    },
    "papermill": {
     "duration": 0.042776,
     "end_time": "2023-12-20T21:46:44.389738",
     "exception": false,
     "start_time": "2023-12-20T21:46:44.346962",
     "status": "completed"
    },
    "tags": []
   },
   "outputs": [
    {
     "data": {
      "text/html": [
       "<div>\n",
       "<style scoped>\n",
       "    .dataframe tbody tr th:only-of-type {\n",
       "        vertical-align: middle;\n",
       "    }\n",
       "\n",
       "    .dataframe tbody tr th {\n",
       "        vertical-align: top;\n",
       "    }\n",
       "\n",
       "    .dataframe thead th {\n",
       "        text-align: right;\n",
       "    }\n",
       "</style>\n",
       "<table border=\"1\" class=\"dataframe\">\n",
       "  <thead>\n",
       "    <tr style=\"text-align: right;\">\n",
       "      <th></th>\n",
       "      <th>Customer_ID</th>\n",
       "      <th>Item_Purchased</th>\n",
       "      <th>Category</th>\n",
       "      <th>Purchase_Amount_USD</th>\n",
       "      <th>Location</th>\n",
       "      <th>Season</th>\n",
       "      <th>Previous_Purchases</th>\n",
       "    </tr>\n",
       "  </thead>\n",
       "  <tbody>\n",
       "    <tr>\n",
       "      <th>0</th>\n",
       "      <td>1</td>\n",
       "      <td>2</td>\n",
       "      <td>1</td>\n",
       "      <td>53</td>\n",
       "      <td>16</td>\n",
       "      <td>3</td>\n",
       "      <td>14</td>\n",
       "    </tr>\n",
       "    <tr>\n",
       "      <th>1</th>\n",
       "      <td>2</td>\n",
       "      <td>23</td>\n",
       "      <td>1</td>\n",
       "      <td>64</td>\n",
       "      <td>18</td>\n",
       "      <td>3</td>\n",
       "      <td>2</td>\n",
       "    </tr>\n",
       "    <tr>\n",
       "      <th>2</th>\n",
       "      <td>3</td>\n",
       "      <td>11</td>\n",
       "      <td>1</td>\n",
       "      <td>73</td>\n",
       "      <td>20</td>\n",
       "      <td>1</td>\n",
       "      <td>23</td>\n",
       "    </tr>\n",
       "    <tr>\n",
       "      <th>3</th>\n",
       "      <td>4</td>\n",
       "      <td>14</td>\n",
       "      <td>2</td>\n",
       "      <td>90</td>\n",
       "      <td>38</td>\n",
       "      <td>1</td>\n",
       "      <td>49</td>\n",
       "    </tr>\n",
       "    <tr>\n",
       "      <th>4</th>\n",
       "      <td>5</td>\n",
       "      <td>2</td>\n",
       "      <td>1</td>\n",
       "      <td>49</td>\n",
       "      <td>36</td>\n",
       "      <td>1</td>\n",
       "      <td>31</td>\n",
       "    </tr>\n",
       "  </tbody>\n",
       "</table>\n",
       "</div>"
      ],
      "text/plain": [
       "   Customer_ID  Item_Purchased  Category  Purchase_Amount_USD  Location  \\\n",
       "0            1               2         1                   53        16   \n",
       "1            2              23         1                   64        18   \n",
       "2            3              11         1                   73        20   \n",
       "3            4              14         2                   90        38   \n",
       "4            5               2         1                   49        36   \n",
       "\n",
       "   Season  Previous_Purchases  \n",
       "0       3                  14  \n",
       "1       3                   2  \n",
       "2       1                  23  \n",
       "3       1                  49  \n",
       "4       1                  31  "
      ]
     },
     "execution_count": 18,
     "metadata": {},
     "output_type": "execute_result"
    }
   ],
   "source": [
    "\n",
    "# Encoding all categorical varibale to numeric values\n",
    "from sklearn import preprocessing \n",
    "label_encoder = preprocessing.LabelEncoder()\n",
    "\n",
    "df['Item_Purchased']= label_encoder.fit_transform(df['Item_Purchased'])\n",
    "df['Category']= label_encoder.fit_transform(df['Category']) \n",
    "df['Location']= label_encoder.fit_transform(df['Location']) \n",
    "df['Season']= label_encoder.fit_transform(df['Season']) \n",
    "\n",
    "\n",
    "df.head()"
   ]
  },
  {
   "cell_type": "code",
   "execution_count": 19,
   "id": "10b0da5c",
   "metadata": {
    "execution": {
     "iopub.execute_input": "2023-12-20T21:46:44.430307Z",
     "iopub.status.busy": "2023-12-20T21:46:44.429906Z",
     "iopub.status.idle": "2023-12-20T21:46:44.447335Z",
     "shell.execute_reply": "2023-12-20T21:46:44.446183Z"
    },
    "papermill": {
     "duration": 0.040358,
     "end_time": "2023-12-20T21:46:44.449515",
     "exception": false,
     "start_time": "2023-12-20T21:46:44.409157",
     "status": "completed"
    },
    "tags": []
   },
   "outputs": [
    {
     "data": {
      "text/html": [
       "<div>\n",
       "<style scoped>\n",
       "    .dataframe tbody tr th:only-of-type {\n",
       "        vertical-align: middle;\n",
       "    }\n",
       "\n",
       "    .dataframe tbody tr th {\n",
       "        vertical-align: top;\n",
       "    }\n",
       "\n",
       "    .dataframe thead th {\n",
       "        text-align: right;\n",
       "    }\n",
       "</style>\n",
       "<table border=\"1\" class=\"dataframe\">\n",
       "  <thead>\n",
       "    <tr style=\"text-align: right;\">\n",
       "      <th></th>\n",
       "      <th>Customer_ID</th>\n",
       "      <th>Item_Purchased</th>\n",
       "      <th>Category</th>\n",
       "      <th>Purchase_Amount_USD</th>\n",
       "      <th>Location</th>\n",
       "      <th>Season</th>\n",
       "      <th>Previous_Purchases</th>\n",
       "    </tr>\n",
       "  </thead>\n",
       "  <tbody>\n",
       "    <tr>\n",
       "      <th>Customer_ID</th>\n",
       "      <td>1.000000</td>\n",
       "      <td>0.003648</td>\n",
       "      <td>-0.004133</td>\n",
       "      <td>0.011048</td>\n",
       "      <td>-0.013257</td>\n",
       "      <td>-0.018027</td>\n",
       "      <td>-0.039159</td>\n",
       "    </tr>\n",
       "    <tr>\n",
       "      <th>Item_Purchased</th>\n",
       "      <td>0.003648</td>\n",
       "      <td>1.000000</td>\n",
       "      <td>0.052951</td>\n",
       "      <td>-0.005342</td>\n",
       "      <td>0.020390</td>\n",
       "      <td>0.012755</td>\n",
       "      <td>-0.001513</td>\n",
       "    </tr>\n",
       "    <tr>\n",
       "      <th>Category</th>\n",
       "      <td>-0.004133</td>\n",
       "      <td>0.052951</td>\n",
       "      <td>1.000000</td>\n",
       "      <td>-0.017841</td>\n",
       "      <td>0.000541</td>\n",
       "      <td>0.000141</td>\n",
       "      <td>-0.015669</td>\n",
       "    </tr>\n",
       "    <tr>\n",
       "      <th>Purchase_Amount_USD</th>\n",
       "      <td>0.011048</td>\n",
       "      <td>-0.005342</td>\n",
       "      <td>-0.017841</td>\n",
       "      <td>1.000000</td>\n",
       "      <td>0.028803</td>\n",
       "      <td>-0.018358</td>\n",
       "      <td>0.008063</td>\n",
       "    </tr>\n",
       "    <tr>\n",
       "      <th>Location</th>\n",
       "      <td>-0.013257</td>\n",
       "      <td>0.020390</td>\n",
       "      <td>0.000541</td>\n",
       "      <td>0.028803</td>\n",
       "      <td>1.000000</td>\n",
       "      <td>0.012259</td>\n",
       "      <td>-0.032962</td>\n",
       "    </tr>\n",
       "    <tr>\n",
       "      <th>Season</th>\n",
       "      <td>-0.018027</td>\n",
       "      <td>0.012755</td>\n",
       "      <td>0.000141</td>\n",
       "      <td>-0.018358</td>\n",
       "      <td>0.012259</td>\n",
       "      <td>1.000000</td>\n",
       "      <td>0.024333</td>\n",
       "    </tr>\n",
       "    <tr>\n",
       "      <th>Previous_Purchases</th>\n",
       "      <td>-0.039159</td>\n",
       "      <td>-0.001513</td>\n",
       "      <td>-0.015669</td>\n",
       "      <td>0.008063</td>\n",
       "      <td>-0.032962</td>\n",
       "      <td>0.024333</td>\n",
       "      <td>1.000000</td>\n",
       "    </tr>\n",
       "  </tbody>\n",
       "</table>\n",
       "</div>"
      ],
      "text/plain": [
       "                     Customer_ID  Item_Purchased  Category  \\\n",
       "Customer_ID             1.000000        0.003648 -0.004133   \n",
       "Item_Purchased          0.003648        1.000000  0.052951   \n",
       "Category               -0.004133        0.052951  1.000000   \n",
       "Purchase_Amount_USD     0.011048       -0.005342 -0.017841   \n",
       "Location               -0.013257        0.020390  0.000541   \n",
       "Season                 -0.018027        0.012755  0.000141   \n",
       "Previous_Purchases     -0.039159       -0.001513 -0.015669   \n",
       "\n",
       "                     Purchase_Amount_USD  Location    Season  \\\n",
       "Customer_ID                     0.011048 -0.013257 -0.018027   \n",
       "Item_Purchased                 -0.005342  0.020390  0.012755   \n",
       "Category                       -0.017841  0.000541  0.000141   \n",
       "Purchase_Amount_USD             1.000000  0.028803 -0.018358   \n",
       "Location                        0.028803  1.000000  0.012259   \n",
       "Season                         -0.018358  0.012259  1.000000   \n",
       "Previous_Purchases              0.008063 -0.032962  0.024333   \n",
       "\n",
       "                     Previous_Purchases  \n",
       "Customer_ID                   -0.039159  \n",
       "Item_Purchased                -0.001513  \n",
       "Category                      -0.015669  \n",
       "Purchase_Amount_USD            0.008063  \n",
       "Location                      -0.032962  \n",
       "Season                         0.024333  \n",
       "Previous_Purchases             1.000000  "
      ]
     },
     "execution_count": 19,
     "metadata": {},
     "output_type": "execute_result"
    }
   ],
   "source": [
    "df.corr()"
   ]
  },
  {
   "cell_type": "code",
   "execution_count": 20,
   "id": "3bb5e843",
   "metadata": {
    "execution": {
     "iopub.execute_input": "2023-12-20T21:46:44.490899Z",
     "iopub.status.busy": "2023-12-20T21:46:44.489926Z",
     "iopub.status.idle": "2023-12-20T21:46:44.984290Z",
     "shell.execute_reply": "2023-12-20T21:46:44.983008Z"
    },
    "papermill": {
     "duration": 0.518262,
     "end_time": "2023-12-20T21:46:44.987624",
     "exception": false,
     "start_time": "2023-12-20T21:46:44.469362",
     "status": "completed"
    },
    "tags": []
   },
   "outputs": [
    {
     "data": {
      "image/png": "[encoded data removed]",
      "text/plain": [
       "<Figure size 900x600 with 2 Axes>"
      ]
     },
     "metadata": {},
     "output_type": "display_data"
    }
   ],
   "source": [
    "plt.figure(figsize=(9, 6))\n",
    "sns.heatmap(df.corr(), cmap=\"summer\", annot=True, fmt='.3f')\n",
    "plt.title('Correlation Heatmap')\n",
    "plt.show();"
   ]
  },
  {
   "cell_type": "code",
   "execution_count": 21,
   "id": "7313206e",
   "metadata": {
    "execution": {
     "iopub.execute_input": "2023-12-20T21:46:45.030622Z",
     "iopub.status.busy": "2023-12-20T21:46:45.030205Z",
     "iopub.status.idle": "2023-12-20T21:46:45.045383Z",
     "shell.execute_reply": "2023-12-20T21:46:45.044333Z"
    },
    "papermill": {
     "duration": 0.038582,
     "end_time": "2023-12-20T21:46:45.047610",
     "exception": false,
     "start_time": "2023-12-20T21:46:45.009028",
     "status": "completed"
    },
    "tags": []
   },
   "outputs": [
    {
     "data": {
      "text/plain": [
       "Customer_ID          Customer_ID            1.000000\n",
       "Item_Purchased       Item_Purchased         1.000000\n",
       "Season               Season                 1.000000\n",
       "Location             Location               1.000000\n",
       "Category             Category               1.000000\n",
       "Purchase_Amount_USD  Purchase_Amount_USD    1.000000\n",
       "Previous_Purchases   Previous_Purchases     1.000000\n",
       "Item_Purchased       Category               0.052951\n",
       "Category             Item_Purchased         0.052951\n",
       "Purchase_Amount_USD  Location               0.028803\n",
       "Location             Purchase_Amount_USD    0.028803\n",
       "Previous_Purchases   Season                 0.024333\n",
       "Season               Previous_Purchases     0.024333\n",
       "Item_Purchased       Location               0.020390\n",
       "Location             Item_Purchased         0.020390\n",
       "Item_Purchased       Season                 0.012755\n",
       "Season               Item_Purchased         0.012755\n",
       "                     Location               0.012259\n",
       "Location             Season                 0.012259\n",
       "Customer_ID          Purchase_Amount_USD    0.011048\n",
       "Purchase_Amount_USD  Customer_ID            0.011048\n",
       "Previous_Purchases   Purchase_Amount_USD    0.008063\n",
       "Purchase_Amount_USD  Previous_Purchases     0.008063\n",
       "Item_Purchased       Customer_ID            0.003648\n",
       "Customer_ID          Item_Purchased         0.003648\n",
       "Location             Category               0.000541\n",
       "Category             Location               0.000541\n",
       "                     Season                 0.000141\n",
       "Season               Category               0.000141\n",
       "Previous_Purchases   Item_Purchased        -0.001513\n",
       "Item_Purchased       Previous_Purchases    -0.001513\n",
       "Category             Customer_ID           -0.004133\n",
       "Customer_ID          Category              -0.004133\n",
       "Purchase_Amount_USD  Item_Purchased        -0.005342\n",
       "Item_Purchased       Purchase_Amount_USD   -0.005342\n",
       "Customer_ID          Location              -0.013257\n",
       "Location             Customer_ID           -0.013257\n",
       "Category             Previous_Purchases    -0.015669\n",
       "Previous_Purchases   Category              -0.015669\n",
       "Purchase_Amount_USD  Category              -0.017841\n",
       "Category             Purchase_Amount_USD   -0.017841\n",
       "Season               Customer_ID           -0.018027\n",
       "Customer_ID          Season                -0.018027\n",
       "Season               Purchase_Amount_USD   -0.018358\n",
       "Purchase_Amount_USD  Season                -0.018358\n",
       "Location             Previous_Purchases    -0.032962\n",
       "Previous_Purchases   Location              -0.032962\n",
       "                     Customer_ID           -0.039159\n",
       "Customer_ID          Previous_Purchases    -0.039159\n",
       "dtype: float64"
      ]
     },
     "execution_count": 21,
     "metadata": {},
     "output_type": "execute_result"
    }
   ],
   "source": [
    "df.corr().unstack().sort_values(ascending = False)"
   ]
  },
  {
   "cell_type": "markdown",
   "id": "97e4fd32",
   "metadata": {
    "papermill": {
     "duration": 0.019575,
     "end_time": "2023-12-20T21:46:45.088017",
     "exception": false,
     "start_time": "2023-12-20T21:46:45.068442",
     "status": "completed"
    },
    "tags": []
   },
   "source": [
    "# Modeling"
   ]
  },
  {
   "cell_type": "markdown",
   "id": "1b9f474a",
   "metadata": {
    "papermill": {
     "duration": 0.019574,
     "end_time": "2023-12-20T21:46:45.128076",
     "exception": false,
     "start_time": "2023-12-20T21:46:45.108502",
     "status": "completed"
    },
    "tags": []
   },
   "source": [
    "<right>\n",
    "<h4 style=\"color:Balck; font-size:20px; font-family:Roman; border-radius: 20px;\"> Linear Regression Model"
   ]
  },
  {
   "cell_type": "code",
   "execution_count": 22,
   "id": "314f2a80",
   "metadata": {
    "execution": {
     "iopub.execute_input": "2023-12-20T21:46:45.168550Z",
     "iopub.status.busy": "2023-12-20T21:46:45.168159Z",
     "iopub.status.idle": "2023-12-20T21:46:45.262038Z",
     "shell.execute_reply": "2023-12-20T21:46:45.261002Z"
    },
    "papermill": {
     "duration": 0.117236,
     "end_time": "2023-12-20T21:46:45.264944",
     "exception": false,
     "start_time": "2023-12-20T21:46:45.147708",
     "status": "completed"
    },
    "tags": []
   },
   "outputs": [],
   "source": [
    "import numpy as np\n",
    "import pandas as pd\n",
    "from sklearn.model_selection import train_test_split\n",
    "import matplotlib.pyplot as plt\n",
    "import seaborn as sns\n",
    "%matplotlib inline"
   ]
  },
  {
   "cell_type": "code",
   "execution_count": 23,
   "id": "f7526b7f",
   "metadata": {
    "execution": {
     "iopub.execute_input": "2023-12-20T21:46:45.307341Z",
     "iopub.status.busy": "2023-12-20T21:46:45.306957Z",
     "iopub.status.idle": "2023-12-20T21:46:45.320023Z",
     "shell.execute_reply": "2023-12-20T21:46:45.319177Z"
    },
    "papermill": {
     "duration": 0.035833,
     "end_time": "2023-12-20T21:46:45.322203",
     "exception": false,
     "start_time": "2023-12-20T21:46:45.286370",
     "status": "completed"
    },
    "tags": []
   },
   "outputs": [],
   "source": [
    "X_full_train, df_test = train_test_split(df, test_size=0.2, random_state=1)\n",
    "df_train, df_val = train_test_split(X_full_train, test_size=0.25, random_state=1)\n",
    "\n",
    "x_train = df_train.reset_index(drop=True)\n",
    "x_val = df_val.reset_index(drop=True)\n",
    "x_test = df_test.reset_index(drop=True)\n",
    "\n",
    "\n",
    "y_train_org = df_train.Purchase_Amount_USD.values\n",
    "y_val_org = df_val.Purchase_Amount_USD.values\n",
    "y_test_org = df_test.Purchase_Amount_USD.values\n",
    "\n",
    "\n"
   ]
  },
  {
   "cell_type": "code",
   "execution_count": 24,
   "id": "e6b81dd8",
   "metadata": {
    "execution": {
     "iopub.execute_input": "2023-12-20T21:46:45.363772Z",
     "iopub.status.busy": "2023-12-20T21:46:45.363077Z",
     "iopub.status.idle": "2023-12-20T21:46:45.471306Z",
     "shell.execute_reply": "2023-12-20T21:46:45.470295Z"
    },
    "papermill": {
     "duration": 0.131454,
     "end_time": "2023-12-20T21:46:45.473451",
     "exception": false,
     "start_time": "2023-12-20T21:46:45.341997",
     "status": "completed"
    },
    "tags": []
   },
   "outputs": [
    {
     "data": {
      "text/html": [
       "<div>\n",
       "<style scoped>\n",
       "    .dataframe tbody tr th:only-of-type {\n",
       "        vertical-align: middle;\n",
       "    }\n",
       "\n",
       "    .dataframe tbody tr th {\n",
       "        vertical-align: top;\n",
       "    }\n",
       "\n",
       "    .dataframe thead th {\n",
       "        text-align: right;\n",
       "    }\n",
       "</style>\n",
       "<table border=\"1\" class=\"dataframe\">\n",
       "  <thead>\n",
       "    <tr style=\"text-align: right;\">\n",
       "      <th></th>\n",
       "      <th>Customer_ID</th>\n",
       "      <th>Item_Purchased</th>\n",
       "      <th>Category</th>\n",
       "      <th>Purchase_Amount_USD</th>\n",
       "      <th>Location</th>\n",
       "      <th>Season</th>\n",
       "      <th>Previous_Purchases</th>\n",
       "    </tr>\n",
       "  </thead>\n",
       "  <tbody>\n",
       "    <tr>\n",
       "      <th>0</th>\n",
       "      <td>3361</td>\n",
       "      <td>10</td>\n",
       "      <td>3</td>\n",
       "      <td>81</td>\n",
       "      <td>22</td>\n",
       "      <td>1</td>\n",
       "      <td>47</td>\n",
       "    </tr>\n",
       "    <tr>\n",
       "      <th>1</th>\n",
       "      <td>3527</td>\n",
       "      <td>23</td>\n",
       "      <td>1</td>\n",
       "      <td>99</td>\n",
       "      <td>20</td>\n",
       "      <td>1</td>\n",
       "      <td>1</td>\n",
       "    </tr>\n",
       "    <tr>\n",
       "      <th>2</th>\n",
       "      <td>1289</td>\n",
       "      <td>1</td>\n",
       "      <td>0</td>\n",
       "      <td>93</td>\n",
       "      <td>40</td>\n",
       "      <td>3</td>\n",
       "      <td>34</td>\n",
       "    </tr>\n",
       "    <tr>\n",
       "      <th>3</th>\n",
       "      <td>728</td>\n",
       "      <td>23</td>\n",
       "      <td>1</td>\n",
       "      <td>97</td>\n",
       "      <td>3</td>\n",
       "      <td>3</td>\n",
       "      <td>37</td>\n",
       "    </tr>\n",
       "    <tr>\n",
       "      <th>4</th>\n",
       "      <td>2501</td>\n",
       "      <td>6</td>\n",
       "      <td>0</td>\n",
       "      <td>84</td>\n",
       "      <td>20</td>\n",
       "      <td>0</td>\n",
       "      <td>32</td>\n",
       "    </tr>\n",
       "    <tr>\n",
       "      <th>...</th>\n",
       "      <td>...</td>\n",
       "      <td>...</td>\n",
       "      <td>...</td>\n",
       "      <td>...</td>\n",
       "      <td>...</td>\n",
       "      <td>...</td>\n",
       "      <td>...</td>\n",
       "    </tr>\n",
       "    <tr>\n",
       "      <th>2335</th>\n",
       "      <td>2223</td>\n",
       "      <td>13</td>\n",
       "      <td>1</td>\n",
       "      <td>66</td>\n",
       "      <td>9</td>\n",
       "      <td>2</td>\n",
       "      <td>30</td>\n",
       "    </tr>\n",
       "    <tr>\n",
       "      <th>2336</th>\n",
       "      <td>105</td>\n",
       "      <td>22</td>\n",
       "      <td>0</td>\n",
       "      <td>24</td>\n",
       "      <td>28</td>\n",
       "      <td>1</td>\n",
       "      <td>1</td>\n",
       "    </tr>\n",
       "    <tr>\n",
       "      <th>2337</th>\n",
       "      <td>1965</td>\n",
       "      <td>13</td>\n",
       "      <td>1</td>\n",
       "      <td>51</td>\n",
       "      <td>47</td>\n",
       "      <td>2</td>\n",
       "      <td>50</td>\n",
       "    </tr>\n",
       "    <tr>\n",
       "      <th>2338</th>\n",
       "      <td>3503</td>\n",
       "      <td>0</td>\n",
       "      <td>0</td>\n",
       "      <td>62</td>\n",
       "      <td>20</td>\n",
       "      <td>0</td>\n",
       "      <td>26</td>\n",
       "    </tr>\n",
       "    <tr>\n",
       "      <th>2339</th>\n",
       "      <td>1148</td>\n",
       "      <td>8</td>\n",
       "      <td>0</td>\n",
       "      <td>36</td>\n",
       "      <td>41</td>\n",
       "      <td>3</td>\n",
       "      <td>17</td>\n",
       "    </tr>\n",
       "  </tbody>\n",
       "</table>\n",
       "<p>2340 rows × 7 columns</p>\n",
       "</div>"
      ],
      "text/plain": [
       "      Customer_ID  Item_Purchased  Category  Purchase_Amount_USD  Location  \\\n",
       "0            3361              10         3                   81        22   \n",
       "1            3527              23         1                   99        20   \n",
       "2            1289               1         0                   93        40   \n",
       "3             728              23         1                   97         3   \n",
       "4            2501               6         0                   84        20   \n",
       "...           ...             ...       ...                  ...       ...   \n",
       "2335         2223              13         1                   66         9   \n",
       "2336          105              22         0                   24        28   \n",
       "2337         1965              13         1                   51        47   \n",
       "2338         3503               0         0                   62        20   \n",
       "2339         1148               8         0                   36        41   \n",
       "\n",
       "      Season  Previous_Purchases  \n",
       "0          1                  47  \n",
       "1          1                   1  \n",
       "2          3                  34  \n",
       "3          3                  37  \n",
       "4          0                  32  \n",
       "...      ...                 ...  \n",
       "2335       2                  30  \n",
       "2336       1                   1  \n",
       "2337       2                  50  \n",
       "2338       0                  26  \n",
       "2339       3                  17  \n",
       "\n",
       "[2340 rows x 7 columns]"
      ]
     },
     "execution_count": 24,
     "metadata": {},
     "output_type": "execute_result"
    }
   ],
   "source": [
    "x_train"
   ]
  },
  {
   "cell_type": "code",
   "execution_count": 25,
   "id": "d8811b6b",
   "metadata": {
    "execution": {
     "iopub.execute_input": "2023-12-20T21:46:45.518217Z",
     "iopub.status.busy": "2023-12-20T21:46:45.517803Z",
     "iopub.status.idle": "2023-12-20T21:46:45.523236Z",
     "shell.execute_reply": "2023-12-20T21:46:45.522257Z"
    },
    "papermill": {
     "duration": 0.030446,
     "end_time": "2023-12-20T21:46:45.525476",
     "exception": false,
     "start_time": "2023-12-20T21:46:45.495030",
     "status": "completed"
    },
    "tags": []
   },
   "outputs": [],
   "source": [
    "y_train = np.log1p(y_train_org)\n",
    "y_val = np.log1p(y_val_org)\n",
    "y_test = np.log1p(y_test_org)"
   ]
  },
  {
   "cell_type": "code",
   "execution_count": 26,
   "id": "e8d9846e",
   "metadata": {
    "execution": {
     "iopub.execute_input": "2023-12-20T21:46:45.568297Z",
     "iopub.status.busy": "2023-12-20T21:46:45.567942Z",
     "iopub.status.idle": "2023-12-20T21:46:45.573236Z",
     "shell.execute_reply": "2023-12-20T21:46:45.572236Z"
    },
    "papermill": {
     "duration": 0.028529,
     "end_time": "2023-12-20T21:46:45.575373",
     "exception": false,
     "start_time": "2023-12-20T21:46:45.546844",
     "status": "completed"
    },
    "tags": []
   },
   "outputs": [],
   "source": [
    "del x_train['Purchase_Amount_USD']\n",
    "del x_val['Purchase_Amount_USD']\n",
    "del x_test['Purchase_Amount_USD']"
   ]
  },
  {
   "cell_type": "code",
   "execution_count": 27,
   "id": "bbc7d135",
   "metadata": {
    "execution": {
     "iopub.execute_input": "2023-12-20T21:46:45.618153Z",
     "iopub.status.busy": "2023-12-20T21:46:45.617457Z",
     "iopub.status.idle": "2023-12-20T21:46:45.624168Z",
     "shell.execute_reply": "2023-12-20T21:46:45.623115Z"
    },
    "papermill": {
     "duration": 0.031001,
     "end_time": "2023-12-20T21:46:45.626496",
     "exception": false,
     "start_time": "2023-12-20T21:46:45.595495",
     "status": "completed"
    },
    "tags": []
   },
   "outputs": [],
   "source": [
    "def train_linear_regression(X, y, r=0.0):\n",
    "\n",
    "    ones = np.ones(X.shape[0])\n",
    "    X = np.column_stack([ones, X])\n",
    "    XTX = X.T.dot(X)\n",
    "    XTX_inv = np.linalg.inv(XTX)\n",
    "    w = XTX_inv.dot(X.T).dot(y)\n",
    "    return w[0], w[1:]"
   ]
  },
  {
   "cell_type": "code",
   "execution_count": 28,
   "id": "cce87e0b",
   "metadata": {
    "execution": {
     "iopub.execute_input": "2023-12-20T21:46:45.669121Z",
     "iopub.status.busy": "2023-12-20T21:46:45.668704Z",
     "iopub.status.idle": "2023-12-20T21:46:45.674008Z",
     "shell.execute_reply": "2023-12-20T21:46:45.672993Z"
    },
    "papermill": {
     "duration": 0.029202,
     "end_time": "2023-12-20T21:46:45.676167",
     "exception": false,
     "start_time": "2023-12-20T21:46:45.646965",
     "status": "completed"
    },
    "tags": []
   },
   "outputs": [],
   "source": [
    "def rmse(y, y_pred):\n",
    "    error = y_pred - y\n",
    "    mse = (error ** 2).mean()\n",
    "    return np.sqrt(mse)"
   ]
  },
  {
   "cell_type": "markdown",
   "id": "a654ef42",
   "metadata": {
    "papermill": {
     "duration": 0.021037,
     "end_time": "2023-12-20T21:46:45.717529",
     "exception": false,
     "start_time": "2023-12-20T21:46:45.696492",
     "status": "completed"
    },
    "tags": []
   },
   "source": [
    "<right>\n",
    "<h4 style=\"color:Balck; font-size:20px; font-family:Roman; border-radius: 20px;\"> Finding the least rmse score during training of linear regression"
   ]
  },
  {
   "cell_type": "code",
   "execution_count": 29,
   "id": "c7f1f2ea",
   "metadata": {
    "execution": {
     "iopub.execute_input": "2023-12-20T21:46:45.761191Z",
     "iopub.status.busy": "2023-12-20T21:46:45.760300Z",
     "iopub.status.idle": "2023-12-20T21:46:45.784529Z",
     "shell.execute_reply": "2023-12-20T21:46:45.783483Z"
    },
    "papermill": {
     "duration": 0.050284,
     "end_time": "2023-12-20T21:46:45.788362",
     "exception": false,
     "start_time": "2023-12-20T21:46:45.738078",
     "status": "completed"
    },
    "tags": []
   },
   "outputs": [
    {
     "name": "stdout",
     "output_type": "stream",
     "text": [
      "0 3.9891362479699026 0.43\n",
      "1e-06 3.9891362479699026 0.43\n",
      "0.0001 3.9891362479699026 0.43\n",
      "0.001 3.9891362479699026 0.43\n",
      "0.01 3.9891362479699026 0.43\n",
      "0.1 3.9891362479699026 0.43\n",
      "1 3.9891362479699026 0.43\n",
      "5 3.9891362479699026 0.43\n",
      "10 3.9891362479699026 0.43\n"
     ]
    }
   ],
   "source": [
    "for r in [0, 0.000001, 0.0001, 0.001, 0.01, 0.1, 1, 5, 10]:\n",
    "    w_0, w = train_linear_regression(x_train, y_train, r=r)\n",
    "    y_pred = w_0 + x_val.dot(w)\n",
    "    rmse_val = np.round(rmse(y_val, y_pred),2)\n",
    "    print(r, w_0, rmse_val)"
   ]
  },
  {
   "cell_type": "code",
   "execution_count": 30,
   "id": "0990a297",
   "metadata": {
    "execution": {
     "iopub.execute_input": "2023-12-20T21:46:45.885329Z",
     "iopub.status.busy": "2023-12-20T21:46:45.884672Z",
     "iopub.status.idle": "2023-12-20T21:46:45.919999Z",
     "shell.execute_reply": "2023-12-20T21:46:45.918940Z"
    },
    "papermill": {
     "duration": 0.087301,
     "end_time": "2023-12-20T21:46:45.923319",
     "exception": false,
     "start_time": "2023-12-20T21:46:45.836018",
     "status": "completed"
    },
    "tags": []
   },
   "outputs": [
    {
     "name": "stdout",
     "output_type": "stream",
     "text": [
      "0 3.9891362479699026 0.43\n",
      "1 3.9891362479699026 0.43\n",
      "2 3.9891362479699026 0.43\n",
      "3 3.9891362479699026 0.43\n",
      "4 3.9891362479699026 0.43\n",
      "5 3.9891362479699026 0.43\n",
      "6 3.9891362479699026 0.43\n",
      "7 3.9891362479699026 0.43\n",
      "8 3.9891362479699026 0.43\n",
      "9 3.9891362479699026 0.43\n"
     ]
    }
   ],
   "source": [
    "rmse_list = []\n",
    "\n",
    "for r in [0, 1, 2, 3, 4, 5, 6, 7, 8, 9]:\n",
    "    \n",
    "    w_0, w = train_linear_regression(x_train, y_train, r=r)\n",
    "    \n",
    "    y_pred = w_0 + x_val.dot(w)\n",
    "    rmse_val = np.round(rmse(y_val, y_pred),2)\n",
    "    \n",
    "    rmse_list.append(rmse_val)\n",
    "    \n",
    "    print(r, w_0, rmse_val)"
   ]
  },
  {
   "cell_type": "markdown",
   "id": "f77e2009",
   "metadata": {
    "papermill": {
     "duration": 0.042785,
     "end_time": "2023-12-20T21:46:46.009315",
     "exception": false,
     "start_time": "2023-12-20T21:46:45.966530",
     "status": "completed"
    },
    "tags": []
   },
   "source": [
    "<right>\n",
    "<h4 style=\"color:Balck; font-size:20px; font-family:Roman; border-radius: 20px;\"> All rmse scores are same."
   ]
  },
  {
   "cell_type": "code",
   "execution_count": 31,
   "id": "ca198241",
   "metadata": {
    "execution": {
     "iopub.execute_input": "2023-12-20T21:46:46.073396Z",
     "iopub.status.busy": "2023-12-20T21:46:46.072487Z",
     "iopub.status.idle": "2023-12-20T21:46:46.078921Z",
     "shell.execute_reply": "2023-12-20T21:46:46.078010Z"
    },
    "papermill": {
     "duration": 0.03084,
     "end_time": "2023-12-20T21:46:46.081385",
     "exception": false,
     "start_time": "2023-12-20T21:46:46.050545",
     "status": "completed"
    },
    "tags": []
   },
   "outputs": [
    {
     "data": {
      "text/plain": [
       "[0.43, 0.43, 0.43, 0.43, 0.43, 0.43, 0.43, 0.43, 0.43, 0.43]"
      ]
     },
     "execution_count": 31,
     "metadata": {},
     "output_type": "execute_result"
    }
   ],
   "source": [
    "rmse_list\n"
   ]
  },
  {
   "cell_type": "code",
   "execution_count": 32,
   "id": "d527709a",
   "metadata": {
    "execution": {
     "iopub.execute_input": "2023-12-20T21:46:46.122399Z",
     "iopub.status.busy": "2023-12-20T21:46:46.122047Z",
     "iopub.status.idle": "2023-12-20T21:46:46.136225Z",
     "shell.execute_reply": "2023-12-20T21:46:46.134924Z"
    },
    "papermill": {
     "duration": 0.038725,
     "end_time": "2023-12-20T21:46:46.139744",
     "exception": false,
     "start_time": "2023-12-20T21:46:46.101019",
     "status": "completed"
    },
    "tags": []
   },
   "outputs": [
    {
     "name": "stdout",
     "output_type": "stream",
     "text": [
      "9 3.9891362479699026 0.43\n"
     ]
    }
   ],
   "source": [
    "r = 9\n",
    "\n",
    "w_0, w = train_linear_regression(x_train, y_train, r=r)\n",
    "y_pred = w_0 + x_val.dot(w)\n",
    "rmse_val = np.round(rmse(y_val, y_pred),2)\n",
    "    \n",
    "rmse_list.append(rmse_val)\n",
    "    \n",
    "print(r, w_0, rmse_val)\n"
   ]
  },
  {
   "cell_type": "markdown",
   "id": "50ddadd3",
   "metadata": {
    "papermill": {
     "duration": 0.042048,
     "end_time": "2023-12-20T21:46:46.223455",
     "exception": false,
     "start_time": "2023-12-20T21:46:46.181407",
     "status": "completed"
    },
    "tags": []
   },
   "source": [
    "<right>\n",
    "<h4 style=\"color:Balck; font-size:20px; font-family:Roman; border-radius: 20px;\"> Final rmse score= 0.44 from linear regression model"
   ]
  },
  {
   "cell_type": "code",
   "execution_count": 33,
   "id": "a5ea9d54",
   "metadata": {
    "execution": {
     "iopub.execute_input": "2023-12-20T21:46:46.285906Z",
     "iopub.status.busy": "2023-12-20T21:46:46.285514Z",
     "iopub.status.idle": "2023-12-20T21:46:46.293625Z",
     "shell.execute_reply": "2023-12-20T21:46:46.292680Z"
    },
    "papermill": {
     "duration": 0.031975,
     "end_time": "2023-12-20T21:46:46.295745",
     "exception": false,
     "start_time": "2023-12-20T21:46:46.263770",
     "status": "completed"
    },
    "tags": []
   },
   "outputs": [
    {
     "data": {
      "text/plain": [
       "0.44"
      ]
     },
     "execution_count": 33,
     "metadata": {},
     "output_type": "execute_result"
    }
   ],
   "source": [
    "np.round(rmse(y_test, y_pred),2)"
   ]
  },
  {
   "cell_type": "markdown",
   "id": "e7d5854d",
   "metadata": {
    "papermill": {
     "duration": 0.020041,
     "end_time": "2023-12-20T21:46:46.336456",
     "exception": false,
     "start_time": "2023-12-20T21:46:46.316415",
     "status": "completed"
    },
    "tags": []
   },
   "source": [
    "<right> \n",
    "<h4 style=\"color:Balck; font-size:20px; font-family:Roman; border-radius: 20px;\"> Random Forest Regressor"
   ]
  },
  {
   "cell_type": "code",
   "execution_count": 34,
   "id": "ca7a41b8",
   "metadata": {
    "execution": {
     "iopub.execute_input": "2023-12-20T21:46:46.380266Z",
     "iopub.status.busy": "2023-12-20T21:46:46.379371Z",
     "iopub.status.idle": "2023-12-20T21:46:46.723568Z",
     "shell.execute_reply": "2023-12-20T21:46:46.722425Z"
    },
    "papermill": {
     "duration": 0.369254,
     "end_time": "2023-12-20T21:46:46.726370",
     "exception": false,
     "start_time": "2023-12-20T21:46:46.357116",
     "status": "completed"
    },
    "tags": []
   },
   "outputs": [],
   "source": [
    "from sklearn.ensemble import RandomForestRegressor\n",
    "from sklearn.metrics import mutual_info_score, accuracy_score, mean_squared_error\n",
    "import math  \n",
    "import matplotlib.pyplot as plt"
   ]
  },
  {
   "cell_type": "code",
   "execution_count": 35,
   "id": "b1d5bfcb",
   "metadata": {
    "execution": {
     "iopub.execute_input": "2023-12-20T21:46:46.773436Z",
     "iopub.status.busy": "2023-12-20T21:46:46.772659Z",
     "iopub.status.idle": "2023-12-20T21:46:46.882843Z",
     "shell.execute_reply": "2023-12-20T21:46:46.881615Z"
    },
    "papermill": {
     "duration": 0.136726,
     "end_time": "2023-12-20T21:46:46.885703",
     "exception": false,
     "start_time": "2023-12-20T21:46:46.748977",
     "status": "completed"
    },
    "tags": []
   },
   "outputs": [
    {
     "data": {
      "text/plain": [
       "0.4896582054336761"
      ]
     },
     "execution_count": 35,
     "metadata": {},
     "output_type": "execute_result"
    }
   ],
   "source": [
    "rf = RandomForestRegressor(n_estimators=10, random_state=1, n_jobs=-1)\n",
    "rf.fit(x_train, y_train)\n",
    "y_pred = rf.predict(x_val)\n",
    "mean_squared_error(y_val, y_pred, squared=False)"
   ]
  },
  {
   "cell_type": "code",
   "execution_count": 36,
   "id": "ba195d66",
   "metadata": {
    "execution": {
     "iopub.execute_input": "2023-12-20T21:46:46.931647Z",
     "iopub.status.busy": "2023-12-20T21:46:46.930908Z",
     "iopub.status.idle": "2023-12-20T21:46:46.952105Z",
     "shell.execute_reply": "2023-12-20T21:46:46.951204Z"
    },
    "papermill": {
     "duration": 0.046921,
     "end_time": "2023-12-20T21:46:46.954576",
     "exception": false,
     "start_time": "2023-12-20T21:46:46.907655",
     "status": "completed"
    },
    "tags": []
   },
   "outputs": [],
   "source": [
    "from tqdm.auto import tqdm"
   ]
  },
  {
   "cell_type": "markdown",
   "id": "25fae312",
   "metadata": {
    "papermill": {
     "duration": 0.023153,
     "end_time": "2023-12-20T21:46:46.999701",
     "exception": false,
     "start_time": "2023-12-20T21:46:46.976548",
     "status": "completed"
    },
    "tags": []
   },
   "source": [
    "<right>\n",
    "<h4 style=\"color:Balck; font-size:20px; font-family:Roman; border-radius: 20px;\"> Training the Random Forest Regressor with n_estimators up to 150"
   ]
  },
  {
   "cell_type": "code",
   "execution_count": 37,
   "id": "dc264850",
   "metadata": {
    "execution": {
     "iopub.execute_input": "2023-12-20T21:46:47.044283Z",
     "iopub.status.busy": "2023-12-20T21:46:47.043504Z",
     "iopub.status.idle": "2023-12-20T21:46:53.863279Z",
     "shell.execute_reply": "2023-12-20T21:46:53.862213Z"
    },
    "papermill": {
     "duration": 6.844728,
     "end_time": "2023-12-20T21:46:53.865522",
     "exception": false,
     "start_time": "2023-12-20T21:46:47.020794",
     "status": "completed"
    },
    "tags": []
   },
   "outputs": [
    {
     "data": {
      "application/vnd.jupyter.widget-view+json": {
       "model_id": "fe27e4aabb9f4c8a9e59161b6b8ac414",
       "version_major": 2,
       "version_minor": 0
      },
      "text/plain": [
       "  0%|          | 0/15 [00:00<?, ?it/s]"
      ]
     },
     "metadata": {},
     "output_type": "display_data"
    }
   ],
   "source": [
    "#trained the Random Forest Regressor with n_estimators up to 150\n",
    "scores = []\n",
    "\n",
    "for n in tqdm(range(10, 151, 10)):\n",
    "    rf = RandomForestRegressor(n_estimators=n, random_state=1, n_jobs=-1)\n",
    "    rf.fit(x_train, y_train)\n",
    "    \n",
    "    y_pred = rf.predict(x_val)\n",
    "    score = np.sqrt(mean_squared_error(y_val, y_pred))\n",
    "    \n",
    "    scores.append((n, score))\n",
    "\n",
    "df_scores = pd.DataFrame(scores, columns=['n_estimators', 'rmse'])"
   ]
  },
  {
   "cell_type": "code",
   "execution_count": 38,
   "id": "001b5e29",
   "metadata": {
    "execution": {
     "iopub.execute_input": "2023-12-20T21:46:53.912952Z",
     "iopub.status.busy": "2023-12-20T21:46:53.912115Z",
     "iopub.status.idle": "2023-12-20T21:46:53.923991Z",
     "shell.execute_reply": "2023-12-20T21:46:53.922939Z"
    },
    "papermill": {
     "duration": 0.037838,
     "end_time": "2023-12-20T21:46:53.926119",
     "exception": false,
     "start_time": "2023-12-20T21:46:53.888281",
     "status": "completed"
    },
    "tags": []
   },
   "outputs": [
    {
     "data": {
      "text/html": [
       "<div>\n",
       "<style scoped>\n",
       "    .dataframe tbody tr th:only-of-type {\n",
       "        vertical-align: middle;\n",
       "    }\n",
       "\n",
       "    .dataframe tbody tr th {\n",
       "        vertical-align: top;\n",
       "    }\n",
       "\n",
       "    .dataframe thead th {\n",
       "        text-align: right;\n",
       "    }\n",
       "</style>\n",
       "<table border=\"1\" class=\"dataframe\">\n",
       "  <thead>\n",
       "    <tr style=\"text-align: right;\">\n",
       "      <th></th>\n",
       "      <th>n_estimators</th>\n",
       "      <th>rmse</th>\n",
       "    </tr>\n",
       "  </thead>\n",
       "  <tbody>\n",
       "    <tr>\n",
       "      <th>0</th>\n",
       "      <td>10</td>\n",
       "      <td>0.489658</td>\n",
       "    </tr>\n",
       "    <tr>\n",
       "      <th>1</th>\n",
       "      <td>20</td>\n",
       "      <td>0.480031</td>\n",
       "    </tr>\n",
       "    <tr>\n",
       "      <th>2</th>\n",
       "      <td>30</td>\n",
       "      <td>0.472907</td>\n",
       "    </tr>\n",
       "    <tr>\n",
       "      <th>3</th>\n",
       "      <td>40</td>\n",
       "      <td>0.469165</td>\n",
       "    </tr>\n",
       "    <tr>\n",
       "      <th>4</th>\n",
       "      <td>50</td>\n",
       "      <td>0.466583</td>\n",
       "    </tr>\n",
       "    <tr>\n",
       "      <th>5</th>\n",
       "      <td>60</td>\n",
       "      <td>0.467652</td>\n",
       "    </tr>\n",
       "    <tr>\n",
       "      <th>6</th>\n",
       "      <td>70</td>\n",
       "      <td>0.466549</td>\n",
       "    </tr>\n",
       "    <tr>\n",
       "      <th>7</th>\n",
       "      <td>80</td>\n",
       "      <td>0.466291</td>\n",
       "    </tr>\n",
       "    <tr>\n",
       "      <th>8</th>\n",
       "      <td>90</td>\n",
       "      <td>0.465166</td>\n",
       "    </tr>\n",
       "    <tr>\n",
       "      <th>9</th>\n",
       "      <td>100</td>\n",
       "      <td>0.465211</td>\n",
       "    </tr>\n",
       "    <tr>\n",
       "      <th>10</th>\n",
       "      <td>110</td>\n",
       "      <td>0.465511</td>\n",
       "    </tr>\n",
       "    <tr>\n",
       "      <th>11</th>\n",
       "      <td>120</td>\n",
       "      <td>0.464745</td>\n",
       "    </tr>\n",
       "    <tr>\n",
       "      <th>12</th>\n",
       "      <td>130</td>\n",
       "      <td>0.463642</td>\n",
       "    </tr>\n",
       "    <tr>\n",
       "      <th>13</th>\n",
       "      <td>140</td>\n",
       "      <td>0.463590</td>\n",
       "    </tr>\n",
       "    <tr>\n",
       "      <th>14</th>\n",
       "      <td>150</td>\n",
       "      <td>0.463018</td>\n",
       "    </tr>\n",
       "  </tbody>\n",
       "</table>\n",
       "</div>"
      ],
      "text/plain": [
       "    n_estimators      rmse\n",
       "0             10  0.489658\n",
       "1             20  0.480031\n",
       "2             30  0.472907\n",
       "3             40  0.469165\n",
       "4             50  0.466583\n",
       "5             60  0.467652\n",
       "6             70  0.466549\n",
       "7             80  0.466291\n",
       "8             90  0.465166\n",
       "9            100  0.465211\n",
       "10           110  0.465511\n",
       "11           120  0.464745\n",
       "12           130  0.463642\n",
       "13           140  0.463590\n",
       "14           150  0.463018"
      ]
     },
     "execution_count": 38,
     "metadata": {},
     "output_type": "execute_result"
    }
   ],
   "source": [
    "# n_estimators 100 can provide the least rsme score\n",
    "df_scores"
   ]
  },
  {
   "cell_type": "code",
   "execution_count": 39,
   "id": "8a6a03ff",
   "metadata": {
    "execution": {
     "iopub.execute_input": "2023-12-20T21:46:53.972835Z",
     "iopub.status.busy": "2023-12-20T21:46:53.972430Z",
     "iopub.status.idle": "2023-12-20T21:46:54.238692Z",
     "shell.execute_reply": "2023-12-20T21:46:54.237689Z"
    },
    "papermill": {
     "duration": 0.29257,
     "end_time": "2023-12-20T21:46:54.241281",
     "exception": false,
     "start_time": "2023-12-20T21:46:53.948711",
     "status": "completed"
    },
    "tags": []
   },
   "outputs": [
    {
     "data": {
      "image/png": "[encoded data removed]",
      "text/plain": [
       "<Figure size 640x480 with 1 Axes>"
      ]
     },
     "metadata": {},
     "output_type": "display_data"
    }
   ],
   "source": [
    "plt.plot(df_scores.n_estimators, df_scores.rmse)\n",
    "plt.plot(df_scores.n_estimators, df_scores.rmse.round(3))\n",
    "\n",
    "plt.show()"
   ]
  },
  {
   "cell_type": "code",
   "execution_count": 40,
   "id": "2f1ba3ce",
   "metadata": {
    "execution": {
     "iopub.execute_input": "2023-12-20T21:46:54.286505Z",
     "iopub.status.busy": "2023-12-20T21:46:54.286128Z",
     "iopub.status.idle": "2023-12-20T21:46:55.869848Z",
     "shell.execute_reply": "2023-12-20T21:46:55.868701Z"
    },
    "papermill": {
     "duration": 1.609465,
     "end_time": "2023-12-20T21:46:55.872924",
     "exception": false,
     "start_time": "2023-12-20T21:46:54.263459",
     "status": "completed"
    },
    "tags": []
   },
   "outputs": [
    {
     "data": {
      "application/vnd.jupyter.widget-view+json": {
       "model_id": "9ba15927acc3486c80701d770ad384f5",
       "version_major": 2,
       "version_minor": 0
      },
      "text/plain": [
       "  0%|          | 0/15 [00:00<?, ?it/s]"
      ]
     },
     "metadata": {},
     "output_type": "display_data"
    }
   ],
   "source": [
    "scores = []\n",
    "\n",
    "rf = RandomForestRegressor(\n",
    "    n_estimators=1,\n",
    "    random_state=1,\n",
    "    n_jobs=-1,\n",
    "    warm_start=True,\n",
    ")\n",
    "\n",
    "for n in tqdm(range(10, 151, 10)):\n",
    "    rf.n_estimators = n\n",
    "    rf.fit(x_train, y_train)\n",
    "    \n",
    "    y_pred = rf.predict(x_val)\n",
    "    score = np.sqrt(mean_squared_error(y_val, y_pred))\n",
    "    \n",
    "    scores.append((n, score))\n",
    "\n",
    "df_scores = pd.DataFrame(scores, columns=['n_estimators', 'rmse'])"
   ]
  },
  {
   "cell_type": "code",
   "execution_count": 41,
   "id": "b5a25bb9",
   "metadata": {
    "execution": {
     "iopub.execute_input": "2023-12-20T21:46:55.921461Z",
     "iopub.status.busy": "2023-12-20T21:46:55.921074Z",
     "iopub.status.idle": "2023-12-20T21:46:56.178098Z",
     "shell.execute_reply": "2023-12-20T21:46:56.177050Z"
    },
    "papermill": {
     "duration": 0.283853,
     "end_time": "2023-12-20T21:46:56.180316",
     "exception": false,
     "start_time": "2023-12-20T21:46:55.896463",
     "status": "completed"
    },
    "tags": []
   },
   "outputs": [
    {
     "data": {
      "image/png": "[encoded data removed]",
      "text/plain": [
       "<Figure size 640x480 with 1 Axes>"
      ]
     },
     "metadata": {},
     "output_type": "display_data"
    }
   ],
   "source": [
    "plt.plot(df_scores.n_estimators, df_scores.rmse.round(3))\n",
    "plt.show()"
   ]
  },
  {
   "cell_type": "code",
   "execution_count": 42,
   "id": "c4f25c1b",
   "metadata": {
    "execution": {
     "iopub.execute_input": "2023-12-20T21:46:56.226697Z",
     "iopub.status.busy": "2023-12-20T21:46:56.226331Z",
     "iopub.status.idle": "2023-12-20T21:47:05.296039Z",
     "shell.execute_reply": "2023-12-20T21:47:05.295083Z"
    },
    "papermill": {
     "duration": 9.100897,
     "end_time": "2023-12-20T21:47:05.303329",
     "exception": false,
     "start_time": "2023-12-20T21:46:56.202432",
     "status": "completed"
    },
    "tags": []
   },
   "outputs": [
    {
     "data": {
      "application/vnd.jupyter.widget-view+json": {
       "model_id": "d9bceb5bdac14fbb9b6237b5fdba9ea3",
       "version_major": 2,
       "version_minor": 0
      },
      "text/plain": [
       "  0%|          | 0/6 [00:00<?, ?it/s]"
      ]
     },
     "metadata": {},
     "output_type": "display_data"
    },
    {
     "data": {
      "application/vnd.jupyter.widget-view+json": {
       "model_id": "71cc113daec546f39487127700b41267",
       "version_major": 2,
       "version_minor": 0
      },
      "text/plain": [
       "  0%|          | 0/15 [00:00<?, ?it/s]"
      ]
     },
     "metadata": {},
     "output_type": "display_data"
    },
    {
     "data": {
      "application/vnd.jupyter.widget-view+json": {
       "model_id": "3ccaae96eba24aa7971e1bbcbefe1b77",
       "version_major": 2,
       "version_minor": 0
      },
      "text/plain": [
       "  0%|          | 0/15 [00:00<?, ?it/s]"
      ]
     },
     "metadata": {},
     "output_type": "display_data"
    },
    {
     "data": {
      "application/vnd.jupyter.widget-view+json": {
       "model_id": "2581fed1e6ff45a4bfe16016c075a44d",
       "version_major": 2,
       "version_minor": 0
      },
      "text/plain": [
       "  0%|          | 0/15 [00:00<?, ?it/s]"
      ]
     },
     "metadata": {},
     "output_type": "display_data"
    },
    {
     "data": {
      "application/vnd.jupyter.widget-view+json": {
       "model_id": "10633d0653684bf9ad5c063a9c231af7",
       "version_major": 2,
       "version_minor": 0
      },
      "text/plain": [
       "  0%|          | 0/15 [00:00<?, ?it/s]"
      ]
     },
     "metadata": {},
     "output_type": "display_data"
    },
    {
     "data": {
      "application/vnd.jupyter.widget-view+json": {
       "model_id": "35600673fc2f4fa4a795d1a7ed8cab6d",
       "version_major": 2,
       "version_minor": 0
      },
      "text/plain": [
       "  0%|          | 0/15 [00:00<?, ?it/s]"
      ]
     },
     "metadata": {},
     "output_type": "display_data"
    },
    {
     "data": {
      "application/vnd.jupyter.widget-view+json": {
       "model_id": "1fec1f2e5d6541cc8d21507233d5495d",
       "version_major": 2,
       "version_minor": 0
      },
      "text/plain": [
       "  0%|          | 0/15 [00:00<?, ?it/s]"
      ]
     },
     "metadata": {},
     "output_type": "display_data"
    }
   ],
   "source": [
    "# trained the model again with various depth\n",
    "\n",
    "scores = []\n",
    "\n",
    "for d in tqdm([10, 15, 20, 25, 30, 35]):\n",
    "    rf = RandomForestRegressor(\n",
    "        n_estimators=0,\n",
    "        max_depth=d,\n",
    "        random_state=1,\n",
    "        n_jobs=-1,\n",
    "        warm_start=True\n",
    "    )\n",
    "\n",
    "    for n in tqdm(range(10, 151, 10)):\n",
    "        rf.n_estimators = n\n",
    "        rf.fit(x_train, y_train)\n",
    "\n",
    "        y_pred = rf.predict(x_val)\n",
    "        score = np.sqrt(mean_squared_error(y_val, y_pred))\n",
    "\n",
    "        scores.append((d, n, score))\n",
    "\n",
    "columns = ['max_depth', 'n_estimators', 'rmse']\n",
    "df_scores = pd.DataFrame(scores, columns=columns)"
   ]
  },
  {
   "cell_type": "markdown",
   "id": "a0249cbc",
   "metadata": {
    "papermill": {
     "duration": 0.024826,
     "end_time": "2023-12-20T21:47:05.354512",
     "exception": false,
     "start_time": "2023-12-20T21:47:05.329686",
     "status": "completed"
    },
    "tags": []
   },
   "source": [
    "<right>\n",
    "<h4 style=\"color:Balck; font-size:20px; font-family:Roman; border-radius: 20px;\"> max_depth=10 produced least rmse score"
   ]
  },
  {
   "cell_type": "code",
   "execution_count": 43,
   "id": "d1b1f0e5",
   "metadata": {
    "execution": {
     "iopub.execute_input": "2023-12-20T21:47:05.405710Z",
     "iopub.status.busy": "2023-12-20T21:47:05.404696Z",
     "iopub.status.idle": "2023-12-20T21:47:05.744464Z",
     "shell.execute_reply": "2023-12-20T21:47:05.743439Z"
    },
    "papermill": {
     "duration": 0.368207,
     "end_time": "2023-12-20T21:47:05.747661",
     "exception": false,
     "start_time": "2023-12-20T21:47:05.379454",
     "status": "completed"
    },
    "tags": []
   },
   "outputs": [
    {
     "data": {
      "image/png": "[encoded data removed]",
      "text/plain": [
       "<Figure size 640x480 with 1 Axes>"
      ]
     },
     "metadata": {},
     "output_type": "display_data"
    }
   ],
   "source": [
    "# max_depth=10 produced least rmse score\n",
    "\n",
    "for d in [10, 15, 20, 25, 30, 35]:\n",
    "    df_subset = df_scores[df_scores.max_depth == d]\n",
    "    plt.plot(df_subset.n_estimators, df_subset.rmse.round(3), label=d)\n",
    "\n",
    "plt.legend()\n",
    "plt.show()"
   ]
  },
  {
   "cell_type": "markdown",
   "id": "ad9449ba",
   "metadata": {
    "papermill": {
     "duration": 0.025584,
     "end_time": "2023-12-20T21:47:05.802655",
     "exception": false,
     "start_time": "2023-12-20T21:47:05.777071",
     "status": "completed"
    },
    "tags": []
   },
   "source": [
    "<right>\n",
    "<h4 style=\"color:Balck; font-size:20px; font-family:Roman; border-radius: 20px;\"> So Finally trained again with n_estimators =100 and max_depth =10"
   ]
  },
  {
   "cell_type": "code",
   "execution_count": 44,
   "id": "24e6f518",
   "metadata": {
    "execution": {
     "iopub.execute_input": "2023-12-20T21:47:05.856695Z",
     "iopub.status.busy": "2023-12-20T21:47:05.855729Z",
     "iopub.status.idle": "2023-12-20T21:47:06.265282Z",
     "shell.execute_reply": "2023-12-20T21:47:06.263939Z"
    },
    "papermill": {
     "duration": 0.439318,
     "end_time": "2023-12-20T21:47:06.267556",
     "exception": false,
     "start_time": "2023-12-20T21:47:05.828238",
     "status": "completed"
    },
    "tags": []
   },
   "outputs": [
    {
     "data": {
      "text/html": [
       "<style>#sk-container-id-1 {color: black;background-color: white;}#sk-container-id-1 pre{padding: 0;}#sk-container-id-1 div.sk-toggleable {background-color: white;}#sk-container-id-1 label.sk-toggleable__label {cursor: pointer;display: block;width: 100%;margin-bottom: 0;padding: 0.3em;box-sizing: border-box;text-align: center;}#sk-container-id-1 label.sk-toggleable__label-arrow:before {content: \"▸\";float: left;margin-right: 0.25em;color: #696969;}#sk-container-id-1 label.sk-toggleable__label-arrow:hover:before {color: black;}#sk-container-id-1 div.sk-estimator:hover label.sk-toggleable__label-arrow:before {color: black;}#sk-container-id-1 div.sk-toggleable__content {max-height: 0;max-width: 0;overflow: hidden;text-align: left;background-color: #f0f8ff;}#sk-container-id-1 div.sk-toggleable__content pre {margin: 0.2em;color: black;border-radius: 0.25em;background-color: #f0f8ff;}#sk-container-id-1 input.sk-toggleable__control:checked~div.sk-toggleable__content {max-height: 200px;max-width: 100%;overflow: auto;}#sk-container-id-1 input.sk-toggleable__control:checked~label.sk-toggleable__label-arrow:before {content: \"▾\";}#sk-container-id-1 div.sk-estimator input.sk-toggleable__control:checked~label.sk-toggleable__label {background-color: #d4ebff;}#sk-container-id-1 div.sk-label input.sk-toggleable__control:checked~label.sk-toggleable__label {background-color: #d4ebff;}#sk-container-id-1 input.sk-hidden--visually {border: 0;clip: rect(1px 1px 1px 1px);clip: rect(1px, 1px, 1px, 1px);height: 1px;margin: -1px;overflow: hidden;padding: 0;position: absolute;width: 1px;}#sk-container-id-1 div.sk-estimator {font-family: monospace;background-color: #f0f8ff;border: 1px dotted black;border-radius: 0.25em;box-sizing: border-box;margin-bottom: 0.5em;}#sk-container-id-1 div.sk-estimator:hover {background-color: #d4ebff;}#sk-container-id-1 div.sk-parallel-item::after {content: \"\";width: 100%;border-bottom: 1px solid gray;flex-grow: 1;}#sk-container-id-1 div.sk-label:hover label.sk-toggleable__label {background-color: #d4ebff;}#sk-container-id-1 div.sk-serial::before {content: \"\";position: absolute;border-left: 1px solid gray;box-sizing: border-box;top: 0;bottom: 0;left: 50%;z-index: 0;}#sk-container-id-1 div.sk-serial {display: flex;flex-direction: column;align-items: center;background-color: white;padding-right: 0.2em;padding-left: 0.2em;position: relative;}#sk-container-id-1 div.sk-item {position: relative;z-index: 1;}#sk-container-id-1 div.sk-parallel {display: flex;align-items: stretch;justify-content: center;background-color: white;position: relative;}#sk-container-id-1 div.sk-item::before, #sk-container-id-1 div.sk-parallel-item::before {content: \"\";position: absolute;border-left: 1px solid gray;box-sizing: border-box;top: 0;bottom: 0;left: 50%;z-index: -1;}#sk-container-id-1 div.sk-parallel-item {display: flex;flex-direction: column;z-index: 1;position: relative;background-color: white;}#sk-container-id-1 div.sk-parallel-item:first-child::after {align-self: flex-end;width: 50%;}#sk-container-id-1 div.sk-parallel-item:last-child::after {align-self: flex-start;width: 50%;}#sk-container-id-1 div.sk-parallel-item:only-child::after {width: 0;}#sk-container-id-1 div.sk-dashed-wrapped {border: 1px dashed gray;margin: 0 0.4em 0.5em 0.4em;box-sizing: border-box;padding-bottom: 0.4em;background-color: white;}#sk-container-id-1 div.sk-label label {font-family: monospace;font-weight: bold;display: inline-block;line-height: 1.2em;}#sk-container-id-1 div.sk-label-container {text-align: center;}#sk-container-id-1 div.sk-container {/* jupyter's `normalize.less` sets `[hidden] { display: none; }` but bootstrap.min.css set `[hidden] { display: none !important; }` so we also need the `!important` here to be able to override the default hidden behavior on the sphinx rendered scikit-learn.org. See: https://github.com/scikit-learn/scikit-learn/issues/21755 */display: inline-block !important;position: relative;}#sk-container-id-1 div.sk-text-repr-fallback {display: none;}</style><div id=\"sk-container-id-1\" class=\"sk-top-container\"><div class=\"sk-text-repr-fallback\"><pre>RandomForestRegressor(max_depth=10, n_jobs=-1, random_state=1)</pre><b>In a Jupyter environment, please rerun this cell to show the HTML representation or trust the notebook. <br />On GitHub, the HTML representation is unable to render, please try loading this page with nbviewer.org.</b></div><div class=\"sk-container\" hidden><div class=\"sk-item\"><div class=\"sk-estimator sk-toggleable\"><input class=\"sk-toggleable__control sk-hidden--visually\" id=\"sk-estimator-id-1\" type=\"checkbox\" checked><label for=\"sk-estimator-id-1\" class=\"sk-toggleable__label sk-toggleable__label-arrow\">RandomForestRegressor</label><div class=\"sk-toggleable__content\"><pre>RandomForestRegressor(max_depth=10, n_jobs=-1, random_state=1)</pre></div></div></div></div></div>"
      ],
      "text/plain": [
       "RandomForestRegressor(max_depth=10, n_jobs=-1, random_state=1)"
      ]
     },
     "execution_count": 44,
     "metadata": {},
     "output_type": "execute_result"
    }
   ],
   "source": [
    "#So Finally trained again with n_estimators =100 and max_depth =10\n",
    "rf = RandomForestRegressor(\n",
    "    n_estimators=100,\n",
    "    max_depth=10,\n",
    "    random_state=1,\n",
    "    n_jobs=-1\n",
    ")\n",
    "rf.fit(x_train, y_train)"
   ]
  },
  {
   "cell_type": "markdown",
   "id": "b18a2f89",
   "metadata": {
    "papermill": {
     "duration": 0.024816,
     "end_time": "2023-12-20T21:47:06.317523",
     "exception": false,
     "start_time": "2023-12-20T21:47:06.292707",
     "status": "completed"
    },
    "tags": []
   },
   "source": [
    "<right>\n",
    "<h4 style=\"color:Balck; font-size:20px; font-family:Roman; border-radius: 20px;\">  Final rmse score= 0.45 from RandomForest Regressor. Therefore, Linear Regression Model (rmse=0.44) is slightly better than the RandomForest Regressor"
   ]
  },
  {
   "cell_type": "code",
   "execution_count": 45,
   "id": "3cab1840",
   "metadata": {
    "execution": {
     "iopub.execute_input": "2023-12-20T21:47:06.368463Z",
     "iopub.status.busy": "2023-12-20T21:47:06.368061Z",
     "iopub.status.idle": "2023-12-20T21:47:06.413375Z",
     "shell.execute_reply": "2023-12-20T21:47:06.412309Z"
    },
    "papermill": {
     "duration": 0.073839,
     "end_time": "2023-12-20T21:47:06.416059",
     "exception": false,
     "start_time": "2023-12-20T21:47:06.342220",
     "status": "completed"
    },
    "tags": []
   },
   "outputs": [
    {
     "data": {
      "text/plain": [
       "0.45026565986208045"
      ]
     },
     "execution_count": 45,
     "metadata": {},
     "output_type": "execute_result"
    }
   ],
   "source": [
    "y_pred = rf.predict(x_test)\n",
    "mean_squared_error(y_test, y_pred, squared=False)"
   ]
  }
 ],
 "metadata": {
  "kaggle": {
   "accelerator": "gpu",
   "dataSources": [
    {
     "datasetId": 3881446,
     "sourceId": 6740173,
     "sourceType": "datasetVersion"
    }
   ],
   "dockerImageVersionId": 30559,
   "isGpuEnabled": true,
   "isInternetEnabled": true,
   "language": "python",
   "sourceType": "notebook"
  },
  "kernelspec": {
   "display_name": "Python 3",
   "language": "python",
   "name": "python3"
  },
  "language_info": {
   "codemirror_mode": {
    "name": "ipython",
    "version": 3
   },
   "file_extension": ".py",
   "mimetype": "text/x-python",
   "name": "python",
   "nbconvert_exporter": "python",
   "pygments_lexer": "ipython3",
   "version": "3.10.12"
  },
  "papermill": {
   "default_parameters": {},
   "duration": 31.545065,
   "end_time": "2023-12-20T21:47:07.064243",
   "environment_variables": {},
   "exception": null,
   "input_path": "__notebook__.ipynb",
   "output_path": "__notebook__.ipynb",
   "parameters": {},
   "start_time": "2023-12-20T21:46:35.519178",
   "version": "2.4.0"
  },
  "widgets": {
   "application/vnd.jupyter.widget-state+json": {
    "state": {
     "04a6b95deee947879685d230e222f344": {
      "model_module": "@jupyter-widgets/controls",
      "model_module_version": "1.5.0",
      "model_name": "ProgressStyleModel",
      "state": {
       "_model_module": "@jupyter-widgets/controls",
       "_model_module_version": "1.5.0",
       "_model_name": "ProgressStyleModel",
       "_view_count": null,
       "_view_module": "@jupyter-widgets/base",
       "_view_module_version": "1.2.0",
       "_view_name": "StyleView",
       "bar_color": null,
       "description_width": ""
      }
     },
     "067128ace7d54018b7c2eb9347020315": {
      "model_module": "@jupyter-widgets/controls",
      "model_module_version": "1.5.0",
      "model_name": "DescriptionStyleModel",
      "state": {
       "_model_module": "@jupyter-widgets/controls",
       "_model_module_version": "1.5.0",
       "_model_name": "DescriptionStyleModel",
       "_view_count": null,
       "_view_module": "@jupyter-widgets/base",
       "_view_module_version": "1.2.0",
       "_view_name": "StyleView",
       "description_width": ""
      }
     },
     "0cf549b84a4c4bc98fe60c95f7d40e4a": {
      "model_module": "@jupyter-widgets/controls",
      "model_module_version": "1.5.0",
      "model_name": "HTMLModel",
      "state": {
       "_dom_classes": [],
       "_model_module": "@jupyter-widgets/controls",
       "_model_module_version": "1.5.0",
       "_model_name": "HTMLModel",
       "_view_count": null,
       "_view_module": "@jupyter-widgets/controls",
       "_view_module_version": "1.5.0",
       "_view_name": "HTMLView",
       "description": "",
       "description_tooltip": null,
       "layout": "IPY_MODEL_ca8e65e6337f4f3395cf5f74b5420ccb",
       "placeholder": "​",
       "style": "IPY_MODEL_cce526dfa83e4013a16f09f1230533c7",
       "value": "100%"
      }
     },
     "0d27b02d566644c682eda2d95745e126": {
      "model_module": "@jupyter-widgets/base",
      "model_module_version": "1.2.0",
      "model_name": "LayoutModel",
      "state": {
       "_model_module": "@jupyter-widgets/base",
       "_model_module_version": "1.2.0",
       "_model_name": "LayoutModel",
       "_view_count": null,
       "_view_module": "@jupyter-widgets/base",
       "_view_module_version": "1.2.0",
       "_view_name": "LayoutView",
       "align_content": null,
       "align_items": null,
       "align_self": null,
       "border": null,
       "bottom": null,
       "display": null,
       "flex": null,
       "flex_flow": null,
       "grid_area": null,
       "grid_auto_columns": null,
       "grid_auto_flow": null,
       "grid_auto_rows": null,
       "grid_column": null,
       "grid_gap": null,
       "grid_row": null,
       "grid_template_areas": null,
       "grid_template_columns": null,
       "grid_template_rows": null,
       "height": null,
       "justify_content": null,
       "justify_items": null,
       "left": null,
       "margin": null,
       "max_height": null,
       "max_width": null,
       "min_height": null,
       "min_width": null,
       "object_fit": null,
       "object_position": null,
       "order": null,
       "overflow": null,
       "overflow_x": null,
       "overflow_y": null,
       "padding": null,
       "right": null,
       "top": null,
       "visibility": null,
       "width": null
      }
     },
     "10633d0653684bf9ad5c063a9c231af7": {
      "model_module": "@jupyter-widgets/controls",
      "model_module_version": "1.5.0",
      "model_name": "HBoxModel",
      "state": {
       "_dom_classes": [],
       "_model_module": "@jupyter-widgets/controls",
       "_model_module_version": "1.5.0",
       "_model_name": "HBoxModel",
       "_view_count": null,
       "_view_module": "@jupyter-widgets/controls",
       "_view_module_version": "1.5.0",
       "_view_name": "HBoxView",
       "box_style": "",
       "children": [
        "IPY_MODEL_261d20e072ea475292f06d9678c1fff9",
        "IPY_MODEL_c9d47469257140ae833d68df6db6c88a",
        "IPY_MODEL_16001ffda9bd4eb7bcf10499e701963e"
       ],
       "layout": "IPY_MODEL_92ee5d13ad5b4d859fc06d7e04259b78"
      }
     },
     "16001ffda9bd4eb7bcf10499e701963e": {
      "model_module": "@jupyter-widgets/controls",
      "model_module_version": "1.5.0",
      "model_name": "HTMLModel",
      "state": {
       "_dom_classes": [],
       "_model_module": "@jupyter-widgets/controls",
       "_model_module_version": "1.5.0",
       "_model_name": "HTMLModel",
       "_view_count": null,
       "_view_module": "@jupyter-widgets/controls",
       "_view_module_version": "1.5.0",
       "_view_name": "HTMLView",
       "description": "",
       "description_tooltip": null,
       "layout": "IPY_MODEL_0d27b02d566644c682eda2d95745e126",
       "placeholder": "​",
       "style": "IPY_MODEL_f79ef5edb11a4b08b755ee1b3d6de485",
       "value": " 15/15 [00:01&lt;00:00,  9.03it/s]"
      }
     },
     "19f52b53096b478b9eb3207298be402f": {
      "model_module": "@jupyter-widgets/controls",
      "model_module_version": "1.5.0",
      "model_name": "HTMLModel",
      "state": {
       "_dom_classes": [],
       "_model_module": "@jupyter-widgets/controls",
       "_model_module_version": "1.5.0",
       "_model_name": "HTMLModel",
       "_view_count": null,
       "_view_module": "@jupyter-widgets/controls",
       "_view_module_version": "1.5.0",
       "_view_name": "HTMLView",
       "description": "",
       "description_tooltip": null,
       "layout": "IPY_MODEL_6530209b45334619b51d83f226136337",
       "placeholder": "​",
       "style": "IPY_MODEL_814cc58a947247c49800fcbc421e9a5e",
       "value": "100%"
      }
     },
     "1fec1f2e5d6541cc8d21507233d5495d": {
      "model_module": "@jupyter-widgets/controls",
      "model_module_version": "1.5.0",
      "model_name": "HBoxModel",
      "state": {
       "_dom_classes": [],
       "_model_module": "@jupyter-widgets/controls",
       "_model_module_version": "1.5.0",
       "_model_name": "HBoxModel",
       "_view_count": null,
       "_view_module": "@jupyter-widgets/controls",
       "_view_module_version": "1.5.0",
       "_view_name": "HBoxView",
       "box_style": "",
       "children": [
        "IPY_MODEL_46fad3d9b3e84ccdbb4ba6f1e7d5cb87",
        "IPY_MODEL_5f4e9b971b6c4c829f2a0969c0b84155",
        "IPY_MODEL_7973b93af1ef440fbb25c9fd0c0be2ce"
       ],
       "layout": "IPY_MODEL_3cf5b07db1c5467284ae2dbdee71f766"
      }
     },
     "2104c35478a849c88871c05de045caec": {
      "model_module": "@jupyter-widgets/controls",
      "model_module_version": "1.5.0",
      "model_name": "HTMLModel",
      "state": {
       "_dom_classes": [],
       "_model_module": "@jupyter-widgets/controls",
       "_model_module_version": "1.5.0",
       "_model_name": "HTMLModel",
       "_view_count": null,
       "_view_module": "@jupyter-widgets/controls",
       "_view_module_version": "1.5.0",
       "_view_name": "HTMLView",
       "description": "",
       "description_tooltip": null,
       "layout": "IPY_MODEL_397acc6bc1604b67848a831ab3362beb",
       "placeholder": "​",
       "style": "IPY_MODEL_4ee13a3387d8498ab9b1ef57cc6873cc",
       "value": "100%"
      }
     },
     "2581fed1e6ff45a4bfe16016c075a44d": {
      "model_module": "@jupyter-widgets/controls",
      "model_module_version": "1.5.0",
      "model_name": "HBoxModel",
      "state": {
       "_dom_classes": [],
       "_model_module": "@jupyter-widgets/controls",
       "_model_module_version": "1.5.0",
       "_model_name": "HBoxModel",
       "_view_count": null,
       "_view_module": "@jupyter-widgets/controls",
       "_view_module_version": "1.5.0",
       "_view_name": "HBoxView",
       "box_style": "",
       "children": [
        "IPY_MODEL_19f52b53096b478b9eb3207298be402f",
        "IPY_MODEL_2cc28832edef48ce9ece9623e09bfd07",
        "IPY_MODEL_9dd89b0a7da74007bc752790d837e4db"
       ],
       "layout": "IPY_MODEL_65febe44277544f4b2aa241369ab79f3"
      }
     },
     "261d20e072ea475292f06d9678c1fff9": {
      "model_module": "@jupyter-widgets/controls",
      "model_module_version": "1.5.0",
      "model_name": "HTMLModel",
      "state": {
       "_dom_classes": [],
       "_model_module": "@jupyter-widgets/controls",
       "_model_module_version": "1.5.0",
       "_model_name": "HTMLModel",
       "_view_count": null,
       "_view_module": "@jupyter-widgets/controls",
       "_view_module_version": "1.5.0",
       "_view_name": "HTMLView",
       "description": "",
       "description_tooltip": null,
       "layout": "IPY_MODEL_7de5aa38ce89448195d0073abdfb3174",
       "placeholder": "​",
       "style": "IPY_MODEL_7388f7d5a1634b1eb100f7b64d7b06a1",
       "value": "100%"
      }
     },
     "264ea9b084a0406ab9a9667445f17fd5": {
      "model_module": "@jupyter-widgets/base",
      "model_module_version": "1.2.0",
      "model_name": "LayoutModel",
      "state": {
       "_model_module": "@jupyter-widgets/base",
       "_model_module_version": "1.2.0",
       "_model_name": "LayoutModel",
       "_view_count": null,
       "_view_module": "@jupyter-widgets/base",
       "_view_module_version": "1.2.0",
       "_view_name": "LayoutView",
       "align_content": null,
       "align_items": null,
       "align_self": null,
       "border": null,
       "bottom": null,
       "display": null,
       "flex": null,
       "flex_flow": null,
       "grid_area": null,
       "grid_auto_columns": null,
       "grid_auto_flow": null,
       "grid_auto_rows": null,
       "grid_column": null,
       "grid_gap": null,
       "grid_row": null,
       "grid_template_areas": null,
       "grid_template_columns": null,
       "grid_template_rows": null,
       "height": null,
       "justify_content": null,
       "justify_items": null,
       "left": null,
       "margin": null,
       "max_height": null,
       "max_width": null,
       "min_height": null,
       "min_width": null,
       "object_fit": null,
       "object_position": null,
       "order": null,
       "overflow": null,
       "overflow_x": null,
       "overflow_y": null,
       "padding": null,
       "right": null,
       "top": null,
       "visibility": null,
       "width": null
      }
     },
     "2a865bfbb1584218afcb052773d7002c": {
      "model_module": "@jupyter-widgets/controls",
      "model_module_version": "1.5.0",
      "model_name": "ProgressStyleModel",
      "state": {
       "_model_module": "@jupyter-widgets/controls",
       "_model_module_version": "1.5.0",
       "_model_name": "ProgressStyleModel",
       "_view_count": null,
       "_view_module": "@jupyter-widgets/base",
       "_view_module_version": "1.2.0",
       "_view_name": "StyleView",
       "bar_color": null,
       "description_width": ""
      }
     },
     "2cba1d2505c64359be038b2a499c4acc": {
      "model_module": "@jupyter-widgets/controls",
      "model_module_version": "1.5.0",
      "model_name": "HTMLModel",
      "state": {
       "_dom_classes": [],
       "_model_module": "@jupyter-widgets/controls",
       "_model_module_version": "1.5.0",
       "_model_name": "HTMLModel",
       "_view_count": null,
       "_view_module": "@jupyter-widgets/controls",
       "_view_module_version": "1.5.0",
       "_view_name": "HTMLView",
       "description": "",
       "description_tooltip": null,
       "layout": "IPY_MODEL_6ffd6ae1144944e2862e5cc34d0ccca6",
       "placeholder": "​",
       "style": "IPY_MODEL_a416ee1aacef4b08b566e19c7b63287e",
       "value": " 15/15 [00:01&lt;00:00, 10.36it/s]"
      }
     },
     "2cc28832edef48ce9ece9623e09bfd07": {
      "model_module": "@jupyter-widgets/controls",
      "model_module_version": "1.5.0",
      "model_name": "FloatProgressModel",
      "state": {
       "_dom_classes": [],
       "_model_module": "@jupyter-widgets/controls",
       "_model_module_version": "1.5.0",
       "_model_name": "FloatProgressModel",
       "_view_count": null,
       "_view_module": "@jupyter-widgets/controls",
       "_view_module_version": "1.5.0",
       "_view_name": "ProgressView",
       "bar_style": "success",
       "description": "",
       "description_tooltip": null,
       "layout": "IPY_MODEL_76c5a61ca4b14cfaa5d7aff827b601f0",
       "max": 15.0,
       "min": 0.0,
       "orientation": "horizontal",
       "style": "IPY_MODEL_d9a83510d08f429d9cdce8499b6449f4",
       "value": 15.0
      }
     },
     "35600673fc2f4fa4a795d1a7ed8cab6d": {
      "model_module": "@jupyter-widgets/controls",
      "model_module_version": "1.5.0",
      "model_name": "HBoxModel",
      "state": {
       "_dom_classes": [],
       "_model_module": "@jupyter-widgets/controls",
       "_model_module_version": "1.5.0",
       "_model_name": "HBoxModel",
       "_view_count": null,
       "_view_module": "@jupyter-widgets/controls",
       "_view_module_version": "1.5.0",
       "_view_name": "HBoxView",
       "box_style": "",
       "children": [
        "IPY_MODEL_5e89a792b6e941cfb740426a96b305d4",
        "IPY_MODEL_b6d826048f514492b574942ebb182a9d",
        "IPY_MODEL_368dc291e0414b26a22d7c51a074aede"
       ],
       "layout": "IPY_MODEL_4028e0bdbb784559a36bdbedb8f0c8cb"
      }
     },
     "35d9cb9cc932407daddbb7167401187c": {
      "model_module": "@jupyter-widgets/base",
      "model_module_version": "1.2.0",
      "model_name": "LayoutModel",
      "state": {
       "_model_module": "@jupyter-widgets/base",
       "_model_module_version": "1.2.0",
       "_model_name": "LayoutModel",
       "_view_count": null,
       "_view_module": "@jupyter-widgets/base",
       "_view_module_version": "1.2.0",
       "_view_name": "LayoutView",
       "align_content": null,
       "align_items": null,
       "align_self": null,
       "border": null,
       "bottom": null,
       "display": null,
       "flex": null,
       "flex_flow": null,
       "grid_area": null,
       "grid_auto_columns": null,
       "grid_auto_flow": null,
       "grid_auto_rows": null,
       "grid_column": null,
       "grid_gap": null,
       "grid_row": null,
       "grid_template_areas": null,
       "grid_template_columns": null,
       "grid_template_rows": null,
       "height": null,
       "justify_content": null,
       "justify_items": null,
       "left": null,
       "margin": null,
       "max_height": null,
       "max_width": null,
       "min_height": null,
       "min_width": null,
       "object_fit": null,
       "object_position": null,
       "order": null,
       "overflow": null,
       "overflow_x": null,
       "overflow_y": null,
       "padding": null,
       "right": null,
       "top": null,
       "visibility": null,
       "width": null
      }
     },
     "368dc291e0414b26a22d7c51a074aede": {
      "model_module": "@jupyter-widgets/controls",
      "model_module_version": "1.5.0",
      "model_name": "HTMLModel",
      "state": {
       "_dom_classes": [],
       "_model_module": "@jupyter-widgets/controls",
       "_model_module_version": "1.5.0",
       "_model_name": "HTMLModel",
       "_view_count": null,
       "_view_module": "@jupyter-widgets/controls",
       "_view_module_version": "1.5.0",
       "_view_name": "HTMLView",
       "description": "",
       "description_tooltip": null,
       "layout": "IPY_MODEL_5fde955cd65f4a69a82e4e310cc10621",
       "placeholder": "​",
       "style": "IPY_MODEL_9be6b1cc3e1c433f88b32f34217b6e98",
       "value": " 15/15 [00:01&lt;00:00,  8.71it/s]"
      }
     },
     "3950f615a3154ceab74cc9b70df10be6": {
      "model_module": "@jupyter-widgets/base",
      "model_module_version": "1.2.0",
      "model_name": "LayoutModel",
      "state": {
       "_model_module": "@jupyter-widgets/base",
       "_model_module_version": "1.2.0",
       "_model_name": "LayoutModel",
       "_view_count": null,
       "_view_module": "@jupyter-widgets/base",
       "_view_module_version": "1.2.0",
       "_view_name": "LayoutView",
       "align_content": null,
       "align_items": null,
       "align_self": null,
       "border": null,
       "bottom": null,
       "display": null,
       "flex": null,
       "flex_flow": null,
       "grid_area": null,
       "grid_auto_columns": null,
       "grid_auto_flow": null,
       "grid_auto_rows": null,
       "grid_column": null,
       "grid_gap": null,
       "grid_row": null,
       "grid_template_areas": null,
       "grid_template_columns": null,
       "grid_template_rows": null,
       "height": null,
       "justify_content": null,
       "justify_items": null,
       "left": null,
       "margin": null,
       "max_height": null,
       "max_width": null,
       "min_height": null,
       "min_width": null,
       "object_fit": null,
       "object_position": null,
       "order": null,
       "overflow": null,
       "overflow_x": null,
       "overflow_y": null,
       "padding": null,
       "right": null,
       "top": null,
       "visibility": null,
       "width": null
      }
     },
     "397acc6bc1604b67848a831ab3362beb": {
      "model_module": "@jupyter-widgets/base",
      "model_module_version": "1.2.0",
      "model_name": "LayoutModel",
      "state": {
       "_model_module": "@jupyter-widgets/base",
       "_model_module_version": "1.2.0",
       "_model_name": "LayoutModel",
       "_view_count": null,
       "_view_module": "@jupyter-widgets/base",
       "_view_module_version": "1.2.0",
       "_view_name": "LayoutView",
       "align_content": null,
       "align_items": null,
       "align_self": null,
       "border": null,
       "bottom": null,
       "display": null,
       "flex": null,
       "flex_flow": null,
       "grid_area": null,
       "grid_auto_columns": null,
       "grid_auto_flow": null,
       "grid_auto_rows": null,
       "grid_column": null,
       "grid_gap": null,
       "grid_row": null,
       "grid_template_areas": null,
       "grid_template_columns": null,
       "grid_template_rows": null,
       "height": null,
       "justify_content": null,
       "justify_items": null,
       "left": null,
       "margin": null,
       "max_height": null,
       "max_width": null,
       "min_height": null,
       "min_width": null,
       "object_fit": null,
       "object_position": null,
       "order": null,
       "overflow": null,
       "overflow_x": null,
       "overflow_y": null,
       "padding": null,
       "right": null,
       "top": null,
       "visibility": null,
       "width": null
      }
     },
     "3a3ec765e839460085e0d7009cd47744": {
      "model_module": "@jupyter-widgets/controls",
      "model_module_version": "1.5.0",
      "model_name": "HTMLModel",
      "state": {
       "_dom_classes": [],
       "_model_module": "@jupyter-widgets/controls",
       "_model_module_version": "1.5.0",
       "_model_name": "HTMLModel",
       "_view_count": null,
       "_view_module": "@jupyter-widgets/controls",
       "_view_module_version": "1.5.0",
       "_view_name": "HTMLView",
       "description": "",
       "description_tooltip": null,
       "layout": "IPY_MODEL_a14c5d5567764f5ab28c0ca456abf348",
       "placeholder": "​",
       "style": "IPY_MODEL_a4fa113b110b4eec9fd425b2946074f7",
       "value": "100%"
      }
     },
     "3ccaae96eba24aa7971e1bbcbefe1b77": {
      "model_module": "@jupyter-widgets/controls",
      "model_module_version": "1.5.0",
      "model_name": "HBoxModel",
      "state": {
       "_dom_classes": [],
       "_model_module": "@jupyter-widgets/controls",
       "_model_module_version": "1.5.0",
       "_model_name": "HBoxModel",
       "_view_count": null,
       "_view_module": "@jupyter-widgets/controls",
       "_view_module_version": "1.5.0",
       "_view_name": "HBoxView",
       "box_style": "",
       "children": [
        "IPY_MODEL_3a3ec765e839460085e0d7009cd47744",
        "IPY_MODEL_8389f27fcbd846aaa8bc523447de2c64",
        "IPY_MODEL_4c132ed0bd5b43fda845fc1be6975910"
       ],
       "layout": "IPY_MODEL_d787fa02d33646f087e72e15a06341e2"
      }
     },
     "3cf5b07db1c5467284ae2dbdee71f766": {
      "model_module": "@jupyter-widgets/base",
      "model_module_version": "1.2.0",
      "model_name": "LayoutModel",
      "state": {
       "_model_module": "@jupyter-widgets/base",
       "_model_module_version": "1.2.0",
       "_model_name": "LayoutModel",
       "_view_count": null,
       "_view_module": "@jupyter-widgets/base",
       "_view_module_version": "1.2.0",
       "_view_name": "LayoutView",
       "align_content": null,
       "align_items": null,
       "align_self": null,
       "border": null,
       "bottom": null,
       "display": null,
       "flex": null,
       "flex_flow": null,
       "grid_area": null,
       "grid_auto_columns": null,
       "grid_auto_flow": null,
       "grid_auto_rows": null,
       "grid_column": null,
       "grid_gap": null,
       "grid_row": null,
       "grid_template_areas": null,
       "grid_template_columns": null,
       "grid_template_rows": null,
       "height": null,
       "justify_content": null,
       "justify_items": null,
       "left": null,
       "margin": null,
       "max_height": null,
       "max_width": null,
       "min_height": null,
       "min_width": null,
       "object_fit": null,
       "object_position": null,
       "order": null,
       "overflow": null,
       "overflow_x": null,
       "overflow_y": null,
       "padding": null,
       "right": null,
       "top": null,
       "visibility": null,
       "width": null
      }
     },
     "4028e0bdbb784559a36bdbedb8f0c8cb": {
      "model_module": "@jupyter-widgets/base",
      "model_module_version": "1.2.0",
      "model_name": "LayoutModel",
      "state": {
       "_model_module": "@jupyter-widgets/base",
       "_model_module_version": "1.2.0",
       "_model_name": "LayoutModel",
       "_view_count": null,
       "_view_module": "@jupyter-widgets/base",
       "_view_module_version": "1.2.0",
       "_view_name": "LayoutView",
       "align_content": null,
       "align_items": null,
       "align_self": null,
       "border": null,
       "bottom": null,
       "display": null,
       "flex": null,
       "flex_flow": null,
       "grid_area": null,
       "grid_auto_columns": null,
       "grid_auto_flow": null,
       "grid_auto_rows": null,
       "grid_column": null,
       "grid_gap": null,
       "grid_row": null,
       "grid_template_areas": null,
       "grid_template_columns": null,
       "grid_template_rows": null,
       "height": null,
       "justify_content": null,
       "justify_items": null,
       "left": null,
       "margin": null,
       "max_height": null,
       "max_width": null,
       "min_height": null,
       "min_width": null,
       "object_fit": null,
       "object_position": null,
       "order": null,
       "overflow": null,
       "overflow_x": null,
       "overflow_y": null,
       "padding": null,
       "right": null,
       "top": null,
       "visibility": null,
       "width": null
      }
     },
     "455604382b5244d691a5ba6f2663b643": {
      "model_module": "@jupyter-widgets/controls",
      "model_module_version": "1.5.0",
      "model_name": "DescriptionStyleModel",
      "state": {
       "_model_module": "@jupyter-widgets/controls",
       "_model_module_version": "1.5.0",
       "_model_name": "DescriptionStyleModel",
       "_view_count": null,
       "_view_module": "@jupyter-widgets/base",
       "_view_module_version": "1.2.0",
       "_view_name": "StyleView",
       "description_width": ""
      }
     },
     "45f6f38c4a3542f1a531395a8f22ff63": {
      "model_module": "@jupyter-widgets/controls",
      "model_module_version": "1.5.0",
      "model_name": "DescriptionStyleModel",
      "state": {
       "_model_module": "@jupyter-widgets/controls",
       "_model_module_version": "1.5.0",
       "_model_name": "DescriptionStyleModel",
       "_view_count": null,
       "_view_module": "@jupyter-widgets/base",
       "_view_module_version": "1.2.0",
       "_view_name": "StyleView",
       "description_width": ""
      }
     },
     "46fad3d9b3e84ccdbb4ba6f1e7d5cb87": {
      "model_module": "@jupyter-widgets/controls",
      "model_module_version": "1.5.0",
      "model_name": "HTMLModel",
      "state": {
       "_dom_classes": [],
       "_model_module": "@jupyter-widgets/controls",
       "_model_module_version": "1.5.0",
       "_model_name": "HTMLModel",
       "_view_count": null,
       "_view_module": "@jupyter-widgets/controls",
       "_view_module_version": "1.5.0",
       "_view_name": "HTMLView",
       "description": "",
       "description_tooltip": null,
       "layout": "IPY_MODEL_5b7094d691bc4506ad236667e6f83cd8",
       "placeholder": "​",
       "style": "IPY_MODEL_c77dc0f0b1ce4bde91d273b034bbc6fb",
       "value": "100%"
      }
     },
     "4c132ed0bd5b43fda845fc1be6975910": {
      "model_module": "@jupyter-widgets/controls",
      "model_module_version": "1.5.0",
      "model_name": "HTMLModel",
      "state": {
       "_dom_classes": [],
       "_model_module": "@jupyter-widgets/controls",
       "_model_module_version": "1.5.0",
       "_model_name": "HTMLModel",
       "_view_count": null,
       "_view_module": "@jupyter-widgets/controls",
       "_view_module_version": "1.5.0",
       "_view_name": "HTMLView",
       "description": "",
       "description_tooltip": null,
       "layout": "IPY_MODEL_e4a9544a84d145389d9af77394b0def2",
       "placeholder": "​",
       "style": "IPY_MODEL_4e397843efde40e685528ba09bc7a732",
       "value": " 15/15 [00:01&lt;00:00,  9.98it/s]"
      }
     },
     "4e1573440785488286ff24b831e15306": {
      "model_module": "@jupyter-widgets/controls",
      "model_module_version": "1.5.0",
      "model_name": "HTMLModel",
      "state": {
       "_dom_classes": [],
       "_model_module": "@jupyter-widgets/controls",
       "_model_module_version": "1.5.0",
       "_model_name": "HTMLModel",
       "_view_count": null,
       "_view_module": "@jupyter-widgets/controls",
       "_view_module_version": "1.5.0",
       "_view_name": "HTMLView",
       "description": "",
       "description_tooltip": null,
       "layout": "IPY_MODEL_264ea9b084a0406ab9a9667445f17fd5",
       "placeholder": "​",
       "style": "IPY_MODEL_455604382b5244d691a5ba6f2663b643",
       "value": " 15/15 [00:06&lt;00:00,  1.41it/s]"
      }
     },
     "4e397843efde40e685528ba09bc7a732": {
      "model_module": "@jupyter-widgets/controls",
      "model_module_version": "1.5.0",
      "model_name": "DescriptionStyleModel",
      "state": {
       "_model_module": "@jupyter-widgets/controls",
       "_model_module_version": "1.5.0",
       "_model_name": "DescriptionStyleModel",
       "_view_count": null,
       "_view_module": "@jupyter-widgets/base",
       "_view_module_version": "1.2.0",
       "_view_name": "StyleView",
       "description_width": ""
      }
     },
     "4ee13a3387d8498ab9b1ef57cc6873cc": {
      "model_module": "@jupyter-widgets/controls",
      "model_module_version": "1.5.0",
      "model_name": "DescriptionStyleModel",
      "state": {
       "_model_module": "@jupyter-widgets/controls",
       "_model_module_version": "1.5.0",
       "_model_name": "DescriptionStyleModel",
       "_view_count": null,
       "_view_module": "@jupyter-widgets/base",
       "_view_module_version": "1.2.0",
       "_view_name": "StyleView",
       "description_width": ""
      }
     },
     "52dcc452e08244e188107c3566150b62": {
      "model_module": "@jupyter-widgets/base",
      "model_module_version": "1.2.0",
      "model_name": "LayoutModel",
      "state": {
       "_model_module": "@jupyter-widgets/base",
       "_model_module_version": "1.2.0",
       "_model_name": "LayoutModel",
       "_view_count": null,
       "_view_module": "@jupyter-widgets/base",
       "_view_module_version": "1.2.0",
       "_view_name": "LayoutView",
       "align_content": null,
       "align_items": null,
       "align_self": null,
       "border": null,
       "bottom": null,
       "display": null,
       "flex": null,
       "flex_flow": null,
       "grid_area": null,
       "grid_auto_columns": null,
       "grid_auto_flow": null,
       "grid_auto_rows": null,
       "grid_column": null,
       "grid_gap": null,
       "grid_row": null,
       "grid_template_areas": null,
       "grid_template_columns": null,
       "grid_template_rows": null,
       "height": null,
       "justify_content": null,
       "justify_items": null,
       "left": null,
       "margin": null,
       "max_height": null,
       "max_width": null,
       "min_height": null,
       "min_width": null,
       "object_fit": null,
       "object_position": null,
       "order": null,
       "overflow": null,
       "overflow_x": null,
       "overflow_y": null,
       "padding": null,
       "right": null,
       "top": null,
       "visibility": null,
       "width": null
      }
     },
     "52f35cc28df745a6b33ea93a2535bb1d": {
      "model_module": "@jupyter-widgets/controls",
      "model_module_version": "1.5.0",
      "model_name": "ProgressStyleModel",
      "state": {
       "_model_module": "@jupyter-widgets/controls",
       "_model_module_version": "1.5.0",
       "_model_name": "ProgressStyleModel",
       "_view_count": null,
       "_view_module": "@jupyter-widgets/base",
       "_view_module_version": "1.2.0",
       "_view_name": "StyleView",
       "bar_color": null,
       "description_width": ""
      }
     },
     "5546ea75f0ce40faabfef7b2106b96c6": {
      "model_module": "@jupyter-widgets/base",
      "model_module_version": "1.2.0",
      "model_name": "LayoutModel",
      "state": {
       "_model_module": "@jupyter-widgets/base",
       "_model_module_version": "1.2.0",
       "_model_name": "LayoutModel",
       "_view_count": null,
       "_view_module": "@jupyter-widgets/base",
       "_view_module_version": "1.2.0",
       "_view_name": "LayoutView",
       "align_content": null,
       "align_items": null,
       "align_self": null,
       "border": null,
       "bottom": null,
       "display": null,
       "flex": null,
       "flex_flow": null,
       "grid_area": null,
       "grid_auto_columns": null,
       "grid_auto_flow": null,
       "grid_auto_rows": null,
       "grid_column": null,
       "grid_gap": null,
       "grid_row": null,
       "grid_template_areas": null,
       "grid_template_columns": null,
       "grid_template_rows": null,
       "height": null,
       "justify_content": null,
       "justify_items": null,
       "left": null,
       "margin": null,
       "max_height": null,
       "max_width": null,
       "min_height": null,
       "min_width": null,
       "object_fit": null,
       "object_position": null,
       "order": null,
       "overflow": null,
       "overflow_x": null,
       "overflow_y": null,
       "padding": null,
       "right": null,
       "top": null,
       "visibility": null,
       "width": null
      }
     },
     "5b7094d691bc4506ad236667e6f83cd8": {
      "model_module": "@jupyter-widgets/base",
      "model_module_version": "1.2.0",
      "model_name": "LayoutModel",
      "state": {
       "_model_module": "@jupyter-widgets/base",
       "_model_module_version": "1.2.0",
       "_model_name": "LayoutModel",
       "_view_count": null,
       "_view_module": "@jupyter-widgets/base",
       "_view_module_version": "1.2.0",
       "_view_name": "LayoutView",
       "align_content": null,
       "align_items": null,
       "align_self": null,
       "border": null,
       "bottom": null,
       "display": null,
       "flex": null,
       "flex_flow": null,
       "grid_area": null,
       "grid_auto_columns": null,
       "grid_auto_flow": null,
       "grid_auto_rows": null,
       "grid_column": null,
       "grid_gap": null,
       "grid_row": null,
       "grid_template_areas": null,
       "grid_template_columns": null,
       "grid_template_rows": null,
       "height": null,
       "justify_content": null,
       "justify_items": null,
       "left": null,
       "margin": null,
       "max_height": null,
       "max_width": null,
       "min_height": null,
       "min_width": null,
       "object_fit": null,
       "object_position": null,
       "order": null,
       "overflow": null,
       "overflow_x": null,
       "overflow_y": null,
       "padding": null,
       "right": null,
       "top": null,
       "visibility": null,
       "width": null
      }
     },
     "5c11cb7f3793435fbd07cf83f4ab4144": {
      "model_module": "@jupyter-widgets/base",
      "model_module_version": "1.2.0",
      "model_name": "LayoutModel",
      "state": {
       "_model_module": "@jupyter-widgets/base",
       "_model_module_version": "1.2.0",
       "_model_name": "LayoutModel",
       "_view_count": null,
       "_view_module": "@jupyter-widgets/base",
       "_view_module_version": "1.2.0",
       "_view_name": "LayoutView",
       "align_content": null,
       "align_items": null,
       "align_self": null,
       "border": null,
       "bottom": null,
       "display": null,
       "flex": null,
       "flex_flow": null,
       "grid_area": null,
       "grid_auto_columns": null,
       "grid_auto_flow": null,
       "grid_auto_rows": null,
       "grid_column": null,
       "grid_gap": null,
       "grid_row": null,
       "grid_template_areas": null,
       "grid_template_columns": null,
       "grid_template_rows": null,
       "height": null,
       "justify_content": null,
       "justify_items": null,
       "left": null,
       "margin": null,
       "max_height": null,
       "max_width": null,
       "min_height": null,
       "min_width": null,
       "object_fit": null,
       "object_position": null,
       "order": null,
       "overflow": null,
       "overflow_x": null,
       "overflow_y": null,
       "padding": null,
       "right": null,
       "top": null,
       "visibility": null,
       "width": null
      }
     },
     "5e89a792b6e941cfb740426a96b305d4": {
      "model_module": "@jupyter-widgets/controls",
      "model_module_version": "1.5.0",
      "model_name": "HTMLModel",
      "state": {
       "_dom_classes": [],
       "_model_module": "@jupyter-widgets/controls",
       "_model_module_version": "1.5.0",
       "_model_name": "HTMLModel",
       "_view_count": null,
       "_view_module": "@jupyter-widgets/controls",
       "_view_module_version": "1.5.0",
       "_view_name": "HTMLView",
       "description": "",
       "description_tooltip": null,
       "layout": "IPY_MODEL_8986ad597b3448d0b6a42922e663ddee",
       "placeholder": "​",
       "style": "IPY_MODEL_b3c7bc81244f4eef8e096c6bf720148e",
       "value": "100%"
      }
     },
     "5f4e9b971b6c4c829f2a0969c0b84155": {
      "model_module": "@jupyter-widgets/controls",
      "model_module_version": "1.5.0",
      "model_name": "FloatProgressModel",
      "state": {
       "_dom_classes": [],
       "_model_module": "@jupyter-widgets/controls",
       "_model_module_version": "1.5.0",
       "_model_name": "FloatProgressModel",
       "_view_count": null,
       "_view_module": "@jupyter-widgets/controls",
       "_view_module_version": "1.5.0",
       "_view_name": "ProgressView",
       "bar_style": "success",
       "description": "",
       "description_tooltip": null,
       "layout": "IPY_MODEL_8505c3937c0e4160ac280cdb4686cbe4",
       "max": 15.0,
       "min": 0.0,
       "orientation": "horizontal",
       "style": "IPY_MODEL_04a6b95deee947879685d230e222f344",
       "value": 15.0
      }
     },
     "5fde955cd65f4a69a82e4e310cc10621": {
      "model_module": "@jupyter-widgets/base",
      "model_module_version": "1.2.0",
      "model_name": "LayoutModel",
      "state": {
       "_model_module": "@jupyter-widgets/base",
       "_model_module_version": "1.2.0",
       "_model_name": "LayoutModel",
       "_view_count": null,
       "_view_module": "@jupyter-widgets/base",
       "_view_module_version": "1.2.0",
       "_view_name": "LayoutView",
       "align_content": null,
       "align_items": null,
       "align_self": null,
       "border": null,
       "bottom": null,
       "display": null,
       "flex": null,
       "flex_flow": null,
       "grid_area": null,
       "grid_auto_columns": null,
       "grid_auto_flow": null,
       "grid_auto_rows": null,
       "grid_column": null,
       "grid_gap": null,
       "grid_row": null,
       "grid_template_areas": null,
       "grid_template_columns": null,
       "grid_template_rows": null,
       "height": null,
       "justify_content": null,
       "justify_items": null,
       "left": null,
       "margin": null,
       "max_height": null,
       "max_width": null,
       "min_height": null,
       "min_width": null,
       "object_fit": null,
       "object_position": null,
       "order": null,
       "overflow": null,
       "overflow_x": null,
       "overflow_y": null,
       "padding": null,
       "right": null,
       "top": null,
       "visibility": null,
       "width": null
      }
     },
     "628a898a66e24384a8d06d7c94653c9b": {
      "model_module": "@jupyter-widgets/controls",
      "model_module_version": "1.5.0",
      "model_name": "DescriptionStyleModel",
      "state": {
       "_model_module": "@jupyter-widgets/controls",
       "_model_module_version": "1.5.0",
       "_model_name": "DescriptionStyleModel",
       "_view_count": null,
       "_view_module": "@jupyter-widgets/base",
       "_view_module_version": "1.2.0",
       "_view_name": "StyleView",
       "description_width": ""
      }
     },
     "6530209b45334619b51d83f226136337": {
      "model_module": "@jupyter-widgets/base",
      "model_module_version": "1.2.0",
      "model_name": "LayoutModel",
      "state": {
       "_model_module": "@jupyter-widgets/base",
       "_model_module_version": "1.2.0",
       "_model_name": "LayoutModel",
       "_view_count": null,
       "_view_module": "@jupyter-widgets/base",
       "_view_module_version": "1.2.0",
       "_view_name": "LayoutView",
       "align_content": null,
       "align_items": null,
       "align_self": null,
       "border": null,
       "bottom": null,
       "display": null,
       "flex": null,
       "flex_flow": null,
       "grid_area": null,
       "grid_auto_columns": null,
       "grid_auto_flow": null,
       "grid_auto_rows": null,
       "grid_column": null,
       "grid_gap": null,
       "grid_row": null,
       "grid_template_areas": null,
       "grid_template_columns": null,
       "grid_template_rows": null,
       "height": null,
       "justify_content": null,
       "justify_items": null,
       "left": null,
       "margin": null,
       "max_height": null,
       "max_width": null,
       "min_height": null,
       "min_width": null,
       "object_fit": null,
       "object_position": null,
       "order": null,
       "overflow": null,
       "overflow_x": null,
       "overflow_y": null,
       "padding": null,
       "right": null,
       "top": null,
       "visibility": null,
       "width": null
      }
     },
     "65febe44277544f4b2aa241369ab79f3": {
      "model_module": "@jupyter-widgets/base",
      "model_module_version": "1.2.0",
      "model_name": "LayoutModel",
      "state": {
       "_model_module": "@jupyter-widgets/base",
       "_model_module_version": "1.2.0",
       "_model_name": "LayoutModel",
       "_view_count": null,
       "_view_module": "@jupyter-widgets/base",
       "_view_module_version": "1.2.0",
       "_view_name": "LayoutView",
       "align_content": null,
       "align_items": null,
       "align_self": null,
       "border": null,
       "bottom": null,
       "display": null,
       "flex": null,
       "flex_flow": null,
       "grid_area": null,
       "grid_auto_columns": null,
       "grid_auto_flow": null,
       "grid_auto_rows": null,
       "grid_column": null,
       "grid_gap": null,
       "grid_row": null,
       "grid_template_areas": null,
       "grid_template_columns": null,
       "grid_template_rows": null,
       "height": null,
       "justify_content": null,
       "justify_items": null,
       "left": null,
       "margin": null,
       "max_height": null,
       "max_width": null,
       "min_height": null,
       "min_width": null,
       "object_fit": null,
       "object_position": null,
       "order": null,
       "overflow": null,
       "overflow_x": null,
       "overflow_y": null,
       "padding": null,
       "right": null,
       "top": null,
       "visibility": null,
       "width": null
      }
     },
     "6ce0879839bd48998f775ddde1f24fb5": {
      "model_module": "@jupyter-widgets/base",
      "model_module_version": "1.2.0",
      "model_name": "LayoutModel",
      "state": {
       "_model_module": "@jupyter-widgets/base",
       "_model_module_version": "1.2.0",
       "_model_name": "LayoutModel",
       "_view_count": null,
       "_view_module": "@jupyter-widgets/base",
       "_view_module_version": "1.2.0",
       "_view_name": "LayoutView",
       "align_content": null,
       "align_items": null,
       "align_self": null,
       "border": null,
       "bottom": null,
       "display": null,
       "flex": null,
       "flex_flow": null,
       "grid_area": null,
       "grid_auto_columns": null,
       "grid_auto_flow": null,
       "grid_auto_rows": null,
       "grid_column": null,
       "grid_gap": null,
       "grid_row": null,
       "grid_template_areas": null,
       "grid_template_columns": null,
       "grid_template_rows": null,
       "height": null,
       "justify_content": null,
       "justify_items": null,
       "left": null,
       "margin": null,
       "max_height": null,
       "max_width": null,
       "min_height": null,
       "min_width": null,
       "object_fit": null,
       "object_position": null,
       "order": null,
       "overflow": null,
       "overflow_x": null,
       "overflow_y": null,
       "padding": null,
       "right": null,
       "top": null,
       "visibility": null,
       "width": null
      }
     },
     "6db934093abe42b19b948b330705e1bf": {
      "model_module": "@jupyter-widgets/controls",
      "model_module_version": "1.5.0",
      "model_name": "FloatProgressModel",
      "state": {
       "_dom_classes": [],
       "_model_module": "@jupyter-widgets/controls",
       "_model_module_version": "1.5.0",
       "_model_name": "FloatProgressModel",
       "_view_count": null,
       "_view_module": "@jupyter-widgets/controls",
       "_view_module_version": "1.5.0",
       "_view_name": "ProgressView",
       "bar_style": "success",
       "description": "",
       "description_tooltip": null,
       "layout": "IPY_MODEL_ac85b53510a34106840fcb0493d39acb",
       "max": 15.0,
       "min": 0.0,
       "orientation": "horizontal",
       "style": "IPY_MODEL_83afa797a42d419382e362e1cbbcb5dc",
       "value": 15.0
      }
     },
     "6f6c92a13a8a4cbfbbbed8ead98a1b2b": {
      "model_module": "@jupyter-widgets/controls",
      "model_module_version": "1.5.0",
      "model_name": "FloatProgressModel",
      "state": {
       "_dom_classes": [],
       "_model_module": "@jupyter-widgets/controls",
       "_model_module_version": "1.5.0",
       "_model_name": "FloatProgressModel",
       "_view_count": null,
       "_view_module": "@jupyter-widgets/controls",
       "_view_module_version": "1.5.0",
       "_view_name": "ProgressView",
       "bar_style": "success",
       "description": "",
       "description_tooltip": null,
       "layout": "IPY_MODEL_dbcd7917643841bd98467fb2e7b838b7",
       "max": 6.0,
       "min": 0.0,
       "orientation": "horizontal",
       "style": "IPY_MODEL_b03c30c970824bada6aef7e641eb95aa",
       "value": 6.0
      }
     },
     "6ffd6ae1144944e2862e5cc34d0ccca6": {
      "model_module": "@jupyter-widgets/base",
      "model_module_version": "1.2.0",
      "model_name": "LayoutModel",
      "state": {
       "_model_module": "@jupyter-widgets/base",
       "_model_module_version": "1.2.0",
       "_model_name": "LayoutModel",
       "_view_count": null,
       "_view_module": "@jupyter-widgets/base",
       "_view_module_version": "1.2.0",
       "_view_name": "LayoutView",
       "align_content": null,
       "align_items": null,
       "align_self": null,
       "border": null,
       "bottom": null,
       "display": null,
       "flex": null,
       "flex_flow": null,
       "grid_area": null,
       "grid_auto_columns": null,
       "grid_auto_flow": null,
       "grid_auto_rows": null,
       "grid_column": null,
       "grid_gap": null,
       "grid_row": null,
       "grid_template_areas": null,
       "grid_template_columns": null,
       "grid_template_rows": null,
       "height": null,
       "justify_content": null,
       "justify_items": null,
       "left": null,
       "margin": null,
       "max_height": null,
       "max_width": null,
       "min_height": null,
       "min_width": null,
       "object_fit": null,
       "object_position": null,
       "order": null,
       "overflow": null,
       "overflow_x": null,
       "overflow_y": null,
       "padding": null,
       "right": null,
       "top": null,
       "visibility": null,
       "width": null
      }
     },
     "71cc113daec546f39487127700b41267": {
      "model_module": "@jupyter-widgets/controls",
      "model_module_version": "1.5.0",
      "model_name": "HBoxModel",
      "state": {
       "_dom_classes": [],
       "_model_module": "@jupyter-widgets/controls",
       "_model_module_version": "1.5.0",
       "_model_name": "HBoxModel",
       "_view_count": null,
       "_view_module": "@jupyter-widgets/controls",
       "_view_module_version": "1.5.0",
       "_view_name": "HBoxView",
       "box_style": "",
       "children": [
        "IPY_MODEL_e0fff51d599249438364fe403ce4fb65",
        "IPY_MODEL_6db934093abe42b19b948b330705e1bf",
        "IPY_MODEL_2cba1d2505c64359be038b2a499c4acc"
       ],
       "layout": "IPY_MODEL_83f75245dc074aaf80761c2526f75c6a"
      }
     },
     "7388f7d5a1634b1eb100f7b64d7b06a1": {
      "model_module": "@jupyter-widgets/controls",
      "model_module_version": "1.5.0",
      "model_name": "DescriptionStyleModel",
      "state": {
       "_model_module": "@jupyter-widgets/controls",
       "_model_module_version": "1.5.0",
       "_model_name": "DescriptionStyleModel",
       "_view_count": null,
       "_view_module": "@jupyter-widgets/base",
       "_view_module_version": "1.2.0",
       "_view_name": "StyleView",
       "description_width": ""
      }
     },
     "767e7294c7134f77a6fe58101faabacd": {
      "model_module": "@jupyter-widgets/base",
      "model_module_version": "1.2.0",
      "model_name": "LayoutModel",
      "state": {
       "_model_module": "@jupyter-widgets/base",
       "_model_module_version": "1.2.0",
       "_model_name": "LayoutModel",
       "_view_count": null,
       "_view_module": "@jupyter-widgets/base",
       "_view_module_version": "1.2.0",
       "_view_name": "LayoutView",
       "align_content": null,
       "align_items": null,
       "align_self": null,
       "border": null,
       "bottom": null,
       "display": null,
       "flex": null,
       "flex_flow": null,
       "grid_area": null,
       "grid_auto_columns": null,
       "grid_auto_flow": null,
       "grid_auto_rows": null,
       "grid_column": null,
       "grid_gap": null,
       "grid_row": null,
       "grid_template_areas": null,
       "grid_template_columns": null,
       "grid_template_rows": null,
       "height": null,
       "justify_content": null,
       "justify_items": null,
       "left": null,
       "margin": null,
       "max_height": null,
       "max_width": null,
       "min_height": null,
       "min_width": null,
       "object_fit": null,
       "object_position": null,
       "order": null,
       "overflow": null,
       "overflow_x": null,
       "overflow_y": null,
       "padding": null,
       "right": null,
       "top": null,
       "visibility": null,
       "width": null
      }
     },
     "76c5a61ca4b14cfaa5d7aff827b601f0": {
      "model_module": "@jupyter-widgets/base",
      "model_module_version": "1.2.0",
      "model_name": "LayoutModel",
      "state": {
       "_model_module": "@jupyter-widgets/base",
       "_model_module_version": "1.2.0",
       "_model_name": "LayoutModel",
       "_view_count": null,
       "_view_module": "@jupyter-widgets/base",
       "_view_module_version": "1.2.0",
       "_view_name": "LayoutView",
       "align_content": null,
       "align_items": null,
       "align_self": null,
       "border": null,
       "bottom": null,
       "display": null,
       "flex": null,
       "flex_flow": null,
       "grid_area": null,
       "grid_auto_columns": null,
       "grid_auto_flow": null,
       "grid_auto_rows": null,
       "grid_column": null,
       "grid_gap": null,
       "grid_row": null,
       "grid_template_areas": null,
       "grid_template_columns": null,
       "grid_template_rows": null,
       "height": null,
       "justify_content": null,
       "justify_items": null,
       "left": null,
       "margin": null,
       "max_height": null,
       "max_width": null,
       "min_height": null,
       "min_width": null,
       "object_fit": null,
       "object_position": null,
       "order": null,
       "overflow": null,
       "overflow_x": null,
       "overflow_y": null,
       "padding": null,
       "right": null,
       "top": null,
       "visibility": null,
       "width": null
      }
     },
     "7973b93af1ef440fbb25c9fd0c0be2ce": {
      "model_module": "@jupyter-widgets/controls",
      "model_module_version": "1.5.0",
      "model_name": "HTMLModel",
      "state": {
       "_dom_classes": [],
       "_model_module": "@jupyter-widgets/controls",
       "_model_module_version": "1.5.0",
       "_model_name": "HTMLModel",
       "_view_count": null,
       "_view_module": "@jupyter-widgets/controls",
       "_view_module_version": "1.5.0",
       "_view_name": "HTMLView",
       "description": "",
       "description_tooltip": null,
       "layout": "IPY_MODEL_5546ea75f0ce40faabfef7b2106b96c6",
       "placeholder": "​",
       "style": "IPY_MODEL_628a898a66e24384a8d06d7c94653c9b",
       "value": " 15/15 [00:01&lt;00:00,  7.86it/s]"
      }
     },
     "7de5aa38ce89448195d0073abdfb3174": {
      "model_module": "@jupyter-widgets/base",
      "model_module_version": "1.2.0",
      "model_name": "LayoutModel",
      "state": {
       "_model_module": "@jupyter-widgets/base",
       "_model_module_version": "1.2.0",
       "_model_name": "LayoutModel",
       "_view_count": null,
       "_view_module": "@jupyter-widgets/base",
       "_view_module_version": "1.2.0",
       "_view_name": "LayoutView",
       "align_content": null,
       "align_items": null,
       "align_self": null,
       "border": null,
       "bottom": null,
       "display": null,
       "flex": null,
       "flex_flow": null,
       "grid_area": null,
       "grid_auto_columns": null,
       "grid_auto_flow": null,
       "grid_auto_rows": null,
       "grid_column": null,
       "grid_gap": null,
       "grid_row": null,
       "grid_template_areas": null,
       "grid_template_columns": null,
       "grid_template_rows": null,
       "height": null,
       "justify_content": null,
       "justify_items": null,
       "left": null,
       "margin": null,
       "max_height": null,
       "max_width": null,
       "min_height": null,
       "min_width": null,
       "object_fit": null,
       "object_position": null,
       "order": null,
       "overflow": null,
       "overflow_x": null,
       "overflow_y": null,
       "padding": null,
       "right": null,
       "top": null,
       "visibility": null,
       "width": null
      }
     },
     "814cc58a947247c49800fcbc421e9a5e": {
      "model_module": "@jupyter-widgets/controls",
      "model_module_version": "1.5.0",
      "model_name": "DescriptionStyleModel",
      "state": {
       "_model_module": "@jupyter-widgets/controls",
       "_model_module_version": "1.5.0",
       "_model_name": "DescriptionStyleModel",
       "_view_count": null,
       "_view_module": "@jupyter-widgets/base",
       "_view_module_version": "1.2.0",
       "_view_name": "StyleView",
       "description_width": ""
      }
     },
     "8389f27fcbd846aaa8bc523447de2c64": {
      "model_module": "@jupyter-widgets/controls",
      "model_module_version": "1.5.0",
      "model_name": "FloatProgressModel",
      "state": {
       "_dom_classes": [],
       "_model_module": "@jupyter-widgets/controls",
       "_model_module_version": "1.5.0",
       "_model_name": "FloatProgressModel",
       "_view_count": null,
       "_view_module": "@jupyter-widgets/controls",
       "_view_module_version": "1.5.0",
       "_view_name": "ProgressView",
       "bar_style": "success",
       "description": "",
       "description_tooltip": null,
       "layout": "IPY_MODEL_b740bc5e04fa4083b4d31c9de1700fac",
       "max": 15.0,
       "min": 0.0,
       "orientation": "horizontal",
       "style": "IPY_MODEL_52f35cc28df745a6b33ea93a2535bb1d",
       "value": 15.0
      }
     },
     "83afa797a42d419382e362e1cbbcb5dc": {
      "model_module": "@jupyter-widgets/controls",
      "model_module_version": "1.5.0",
      "model_name": "ProgressStyleModel",
      "state": {
       "_model_module": "@jupyter-widgets/controls",
       "_model_module_version": "1.5.0",
       "_model_name": "ProgressStyleModel",
       "_view_count": null,
       "_view_module": "@jupyter-widgets/base",
       "_view_module_version": "1.2.0",
       "_view_name": "StyleView",
       "bar_color": null,
       "description_width": ""
      }
     },
     "83f75245dc074aaf80761c2526f75c6a": {
      "model_module": "@jupyter-widgets/base",
      "model_module_version": "1.2.0",
      "model_name": "LayoutModel",
      "state": {
       "_model_module": "@jupyter-widgets/base",
       "_model_module_version": "1.2.0",
       "_model_name": "LayoutModel",
       "_view_count": null,
       "_view_module": "@jupyter-widgets/base",
       "_view_module_version": "1.2.0",
       "_view_name": "LayoutView",
       "align_content": null,
       "align_items": null,
       "align_self": null,
       "border": null,
       "bottom": null,
       "display": null,
       "flex": null,
       "flex_flow": null,
       "grid_area": null,
       "grid_auto_columns": null,
       "grid_auto_flow": null,
       "grid_auto_rows": null,
       "grid_column": null,
       "grid_gap": null,
       "grid_row": null,
       "grid_template_areas": null,
       "grid_template_columns": null,
       "grid_template_rows": null,
       "height": null,
       "justify_content": null,
       "justify_items": null,
       "left": null,
       "margin": null,
       "max_height": null,
       "max_width": null,
       "min_height": null,
       "min_width": null,
       "object_fit": null,
       "object_position": null,
       "order": null,
       "overflow": null,
       "overflow_x": null,
       "overflow_y": null,
       "padding": null,
       "right": null,
       "top": null,
       "visibility": null,
       "width": null
      }
     },
     "8505c3937c0e4160ac280cdb4686cbe4": {
      "model_module": "@jupyter-widgets/base",
      "model_module_version": "1.2.0",
      "model_name": "LayoutModel",
      "state": {
       "_model_module": "@jupyter-widgets/base",
       "_model_module_version": "1.2.0",
       "_model_name": "LayoutModel",
       "_view_count": null,
       "_view_module": "@jupyter-widgets/base",
       "_view_module_version": "1.2.0",
       "_view_name": "LayoutView",
       "align_content": null,
       "align_items": null,
       "align_self": null,
       "border": null,
       "bottom": null,
       "display": null,
       "flex": null,
       "flex_flow": null,
       "grid_area": null,
       "grid_auto_columns": null,
       "grid_auto_flow": null,
       "grid_auto_rows": null,
       "grid_column": null,
       "grid_gap": null,
       "grid_row": null,
       "grid_template_areas": null,
       "grid_template_columns": null,
       "grid_template_rows": null,
       "height": null,
       "justify_content": null,
       "justify_items": null,
       "left": null,
       "margin": null,
       "max_height": null,
       "max_width": null,
       "min_height": null,
       "min_width": null,
       "object_fit": null,
       "object_position": null,
       "order": null,
       "overflow": null,
       "overflow_x": null,
       "overflow_y": null,
       "padding": null,
       "right": null,
       "top": null,
       "visibility": null,
       "width": null
      }
     },
     "8986ad597b3448d0b6a42922e663ddee": {
      "model_module": "@jupyter-widgets/base",
      "model_module_version": "1.2.0",
      "model_name": "LayoutModel",
      "state": {
       "_model_module": "@jupyter-widgets/base",
       "_model_module_version": "1.2.0",
       "_model_name": "LayoutModel",
       "_view_count": null,
       "_view_module": "@jupyter-widgets/base",
       "_view_module_version": "1.2.0",
       "_view_name": "LayoutView",
       "align_content": null,
       "align_items": null,
       "align_self": null,
       "border": null,
       "bottom": null,
       "display": null,
       "flex": null,
       "flex_flow": null,
       "grid_area": null,
       "grid_auto_columns": null,
       "grid_auto_flow": null,
       "grid_auto_rows": null,
       "grid_column": null,
       "grid_gap": null,
       "grid_row": null,
       "grid_template_areas": null,
       "grid_template_columns": null,
       "grid_template_rows": null,
       "height": null,
       "justify_content": null,
       "justify_items": null,
       "left": null,
       "margin": null,
       "max_height": null,
       "max_width": null,
       "min_height": null,
       "min_width": null,
       "object_fit": null,
       "object_position": null,
       "order": null,
       "overflow": null,
       "overflow_x": null,
       "overflow_y": null,
       "padding": null,
       "right": null,
       "top": null,
       "visibility": null,
       "width": null
      }
     },
     "92ee5d13ad5b4d859fc06d7e04259b78": {
      "model_module": "@jupyter-widgets/base",
      "model_module_version": "1.2.0",
      "model_name": "LayoutModel",
      "state": {
       "_model_module": "@jupyter-widgets/base",
       "_model_module_version": "1.2.0",
       "_model_name": "LayoutModel",
       "_view_count": null,
       "_view_module": "@jupyter-widgets/base",
       "_view_module_version": "1.2.0",
       "_view_name": "LayoutView",
       "align_content": null,
       "align_items": null,
       "align_self": null,
       "border": null,
       "bottom": null,
       "display": null,
       "flex": null,
       "flex_flow": null,
       "grid_area": null,
       "grid_auto_columns": null,
       "grid_auto_flow": null,
       "grid_auto_rows": null,
       "grid_column": null,
       "grid_gap": null,
       "grid_row": null,
       "grid_template_areas": null,
       "grid_template_columns": null,
       "grid_template_rows": null,
       "height": null,
       "justify_content": null,
       "justify_items": null,
       "left": null,
       "margin": null,
       "max_height": null,
       "max_width": null,
       "min_height": null,
       "min_width": null,
       "object_fit": null,
       "object_position": null,
       "order": null,
       "overflow": null,
       "overflow_x": null,
       "overflow_y": null,
       "padding": null,
       "right": null,
       "top": null,
       "visibility": null,
       "width": null
      }
     },
     "93c92a717451437cadec1eb98d02aa3c": {
      "model_module": "@jupyter-widgets/base",
      "model_module_version": "1.2.0",
      "model_name": "LayoutModel",
      "state": {
       "_model_module": "@jupyter-widgets/base",
       "_model_module_version": "1.2.0",
       "_model_name": "LayoutModel",
       "_view_count": null,
       "_view_module": "@jupyter-widgets/base",
       "_view_module_version": "1.2.0",
       "_view_name": "LayoutView",
       "align_content": null,
       "align_items": null,
       "align_self": null,
       "border": null,
       "bottom": null,
       "display": null,
       "flex": null,
       "flex_flow": null,
       "grid_area": null,
       "grid_auto_columns": null,
       "grid_auto_flow": null,
       "grid_auto_rows": null,
       "grid_column": null,
       "grid_gap": null,
       "grid_row": null,
       "grid_template_areas": null,
       "grid_template_columns": null,
       "grid_template_rows": null,
       "height": null,
       "justify_content": null,
       "justify_items": null,
       "left": null,
       "margin": null,
       "max_height": null,
       "max_width": null,
       "min_height": null,
       "min_width": null,
       "object_fit": null,
       "object_position": null,
       "order": null,
       "overflow": null,
       "overflow_x": null,
       "overflow_y": null,
       "padding": null,
       "right": null,
       "top": null,
       "visibility": null,
       "width": null
      }
     },
     "95fc9fba686b43c09e5b86625c141062": {
      "model_module": "@jupyter-widgets/controls",
      "model_module_version": "1.5.0",
      "model_name": "FloatProgressModel",
      "state": {
       "_dom_classes": [],
       "_model_module": "@jupyter-widgets/controls",
       "_model_module_version": "1.5.0",
       "_model_name": "FloatProgressModel",
       "_view_count": null,
       "_view_module": "@jupyter-widgets/controls",
       "_view_module_version": "1.5.0",
       "_view_name": "ProgressView",
       "bar_style": "success",
       "description": "",
       "description_tooltip": null,
       "layout": "IPY_MODEL_93c92a717451437cadec1eb98d02aa3c",
       "max": 15.0,
       "min": 0.0,
       "orientation": "horizontal",
       "style": "IPY_MODEL_97ee0757285e462f9839ae9f484324c1",
       "value": 15.0
      }
     },
     "97ee0757285e462f9839ae9f484324c1": {
      "model_module": "@jupyter-widgets/controls",
      "model_module_version": "1.5.0",
      "model_name": "ProgressStyleModel",
      "state": {
       "_model_module": "@jupyter-widgets/controls",
       "_model_module_version": "1.5.0",
       "_model_name": "ProgressStyleModel",
       "_view_count": null,
       "_view_module": "@jupyter-widgets/base",
       "_view_module_version": "1.2.0",
       "_view_name": "StyleView",
       "bar_color": null,
       "description_width": ""
      }
     },
     "9ba15927acc3486c80701d770ad384f5": {
      "model_module": "@jupyter-widgets/controls",
      "model_module_version": "1.5.0",
      "model_name": "HBoxModel",
      "state": {
       "_dom_classes": [],
       "_model_module": "@jupyter-widgets/controls",
       "_model_module_version": "1.5.0",
       "_model_name": "HBoxModel",
       "_view_count": null,
       "_view_module": "@jupyter-widgets/controls",
       "_view_module_version": "1.5.0",
       "_view_name": "HBoxView",
       "box_style": "",
       "children": [
        "IPY_MODEL_2104c35478a849c88871c05de045caec",
        "IPY_MODEL_95fc9fba686b43c09e5b86625c141062",
        "IPY_MODEL_e59651f7c77b4cd0a1c1b8329e507a21"
       ],
       "layout": "IPY_MODEL_5c11cb7f3793435fbd07cf83f4ab4144"
      }
     },
     "9be6b1cc3e1c433f88b32f34217b6e98": {
      "model_module": "@jupyter-widgets/controls",
      "model_module_version": "1.5.0",
      "model_name": "DescriptionStyleModel",
      "state": {
       "_model_module": "@jupyter-widgets/controls",
       "_model_module_version": "1.5.0",
       "_model_name": "DescriptionStyleModel",
       "_view_count": null,
       "_view_module": "@jupyter-widgets/base",
       "_view_module_version": "1.2.0",
       "_view_name": "StyleView",
       "description_width": ""
      }
     },
     "9dd89b0a7da74007bc752790d837e4db": {
      "model_module": "@jupyter-widgets/controls",
      "model_module_version": "1.5.0",
      "model_name": "HTMLModel",
      "state": {
       "_dom_classes": [],
       "_model_module": "@jupyter-widgets/controls",
       "_model_module_version": "1.5.0",
       "_model_name": "HTMLModel",
       "_view_count": null,
       "_view_module": "@jupyter-widgets/controls",
       "_view_module_version": "1.5.0",
       "_view_name": "HTMLView",
       "description": "",
       "description_tooltip": null,
       "layout": "IPY_MODEL_6ce0879839bd48998f775ddde1f24fb5",
       "placeholder": "​",
       "style": "IPY_MODEL_b65d8621c8b94af0ac7bc2d45a9179ee",
       "value": " 15/15 [00:01&lt;00:00,  9.09it/s]"
      }
     },
     "a14c5d5567764f5ab28c0ca456abf348": {
      "model_module": "@jupyter-widgets/base",
      "model_module_version": "1.2.0",
      "model_name": "LayoutModel",
      "state": {
       "_model_module": "@jupyter-widgets/base",
       "_model_module_version": "1.2.0",
       "_model_name": "LayoutModel",
       "_view_count": null,
       "_view_module": "@jupyter-widgets/base",
       "_view_module_version": "1.2.0",
       "_view_name": "LayoutView",
       "align_content": null,
       "align_items": null,
       "align_self": null,
       "border": null,
       "bottom": null,
       "display": null,
       "flex": null,
       "flex_flow": null,
       "grid_area": null,
       "grid_auto_columns": null,
       "grid_auto_flow": null,
       "grid_auto_rows": null,
       "grid_column": null,
       "grid_gap": null,
       "grid_row": null,
       "grid_template_areas": null,
       "grid_template_columns": null,
       "grid_template_rows": null,
       "height": null,
       "justify_content": null,
       "justify_items": null,
       "left": null,
       "margin": null,
       "max_height": null,
       "max_width": null,
       "min_height": null,
       "min_width": null,
       "object_fit": null,
       "object_position": null,
       "order": null,
       "overflow": null,
       "overflow_x": null,
       "overflow_y": null,
       "padding": null,
       "right": null,
       "top": null,
       "visibility": null,
       "width": null
      }
     },
     "a416ee1aacef4b08b566e19c7b63287e": {
      "model_module": "@jupyter-widgets/controls",
      "model_module_version": "1.5.0",
      "model_name": "DescriptionStyleModel",
      "state": {
       "_model_module": "@jupyter-widgets/controls",
       "_model_module_version": "1.5.0",
       "_model_name": "DescriptionStyleModel",
       "_view_count": null,
       "_view_module": "@jupyter-widgets/base",
       "_view_module_version": "1.2.0",
       "_view_name": "StyleView",
       "description_width": ""
      }
     },
     "a4fa113b110b4eec9fd425b2946074f7": {
      "model_module": "@jupyter-widgets/controls",
      "model_module_version": "1.5.0",
      "model_name": "DescriptionStyleModel",
      "state": {
       "_model_module": "@jupyter-widgets/controls",
       "_model_module_version": "1.5.0",
       "_model_name": "DescriptionStyleModel",
       "_view_count": null,
       "_view_module": "@jupyter-widgets/base",
       "_view_module_version": "1.2.0",
       "_view_name": "StyleView",
       "description_width": ""
      }
     },
     "ac85b53510a34106840fcb0493d39acb": {
      "model_module": "@jupyter-widgets/base",
      "model_module_version": "1.2.0",
      "model_name": "LayoutModel",
      "state": {
       "_model_module": "@jupyter-widgets/base",
       "_model_module_version": "1.2.0",
       "_model_name": "LayoutModel",
       "_view_count": null,
       "_view_module": "@jupyter-widgets/base",
       "_view_module_version": "1.2.0",
       "_view_name": "LayoutView",
       "align_content": null,
       "align_items": null,
       "align_self": null,
       "border": null,
       "bottom": null,
       "display": null,
       "flex": null,
       "flex_flow": null,
       "grid_area": null,
       "grid_auto_columns": null,
       "grid_auto_flow": null,
       "grid_auto_rows": null,
       "grid_column": null,
       "grid_gap": null,
       "grid_row": null,
       "grid_template_areas": null,
       "grid_template_columns": null,
       "grid_template_rows": null,
       "height": null,
       "justify_content": null,
       "justify_items": null,
       "left": null,
       "margin": null,
       "max_height": null,
       "max_width": null,
       "min_height": null,
       "min_width": null,
       "object_fit": null,
       "object_position": null,
       "order": null,
       "overflow": null,
       "overflow_x": null,
       "overflow_y": null,
       "padding": null,
       "right": null,
       "top": null,
       "visibility": null,
       "width": null
      }
     },
     "b03c30c970824bada6aef7e641eb95aa": {
      "model_module": "@jupyter-widgets/controls",
      "model_module_version": "1.5.0",
      "model_name": "ProgressStyleModel",
      "state": {
       "_model_module": "@jupyter-widgets/controls",
       "_model_module_version": "1.5.0",
       "_model_name": "ProgressStyleModel",
       "_view_count": null,
       "_view_module": "@jupyter-widgets/base",
       "_view_module_version": "1.2.0",
       "_view_name": "StyleView",
       "bar_color": null,
       "description_width": ""
      }
     },
     "b363a13f518c49c79a8875f3602f37bb": {
      "model_module": "@jupyter-widgets/controls",
      "model_module_version": "1.5.0",
      "model_name": "HTMLModel",
      "state": {
       "_dom_classes": [],
       "_model_module": "@jupyter-widgets/controls",
       "_model_module_version": "1.5.0",
       "_model_name": "HTMLModel",
       "_view_count": null,
       "_view_module": "@jupyter-widgets/controls",
       "_view_module_version": "1.5.0",
       "_view_name": "HTMLView",
       "description": "",
       "description_tooltip": null,
       "layout": "IPY_MODEL_3950f615a3154ceab74cc9b70df10be6",
       "placeholder": "​",
       "style": "IPY_MODEL_45f6f38c4a3542f1a531395a8f22ff63",
       "value": "100%"
      }
     },
     "b3c7bc81244f4eef8e096c6bf720148e": {
      "model_module": "@jupyter-widgets/controls",
      "model_module_version": "1.5.0",
      "model_name": "DescriptionStyleModel",
      "state": {
       "_model_module": "@jupyter-widgets/controls",
       "_model_module_version": "1.5.0",
       "_model_name": "DescriptionStyleModel",
       "_view_count": null,
       "_view_module": "@jupyter-widgets/base",
       "_view_module_version": "1.2.0",
       "_view_name": "StyleView",
       "description_width": ""
      }
     },
     "b65d8621c8b94af0ac7bc2d45a9179ee": {
      "model_module": "@jupyter-widgets/controls",
      "model_module_version": "1.5.0",
      "model_name": "DescriptionStyleModel",
      "state": {
       "_model_module": "@jupyter-widgets/controls",
       "_model_module_version": "1.5.0",
       "_model_name": "DescriptionStyleModel",
       "_view_count": null,
       "_view_module": "@jupyter-widgets/base",
       "_view_module_version": "1.2.0",
       "_view_name": "StyleView",
       "description_width": ""
      }
     },
     "b6d826048f514492b574942ebb182a9d": {
      "model_module": "@jupyter-widgets/controls",
      "model_module_version": "1.5.0",
      "model_name": "FloatProgressModel",
      "state": {
       "_dom_classes": [],
       "_model_module": "@jupyter-widgets/controls",
       "_model_module_version": "1.5.0",
       "_model_name": "FloatProgressModel",
       "_view_count": null,
       "_view_module": "@jupyter-widgets/controls",
       "_view_module_version": "1.5.0",
       "_view_name": "ProgressView",
       "bar_style": "success",
       "description": "",
       "description_tooltip": null,
       "layout": "IPY_MODEL_35d9cb9cc932407daddbb7167401187c",
       "max": 15.0,
       "min": 0.0,
       "orientation": "horizontal",
       "style": "IPY_MODEL_2a865bfbb1584218afcb052773d7002c",
       "value": 15.0
      }
     },
     "b740bc5e04fa4083b4d31c9de1700fac": {
      "model_module": "@jupyter-widgets/base",
      "model_module_version": "1.2.0",
      "model_name": "LayoutModel",
      "state": {
       "_model_module": "@jupyter-widgets/base",
       "_model_module_version": "1.2.0",
       "_model_name": "LayoutModel",
       "_view_count": null,
       "_view_module": "@jupyter-widgets/base",
       "_view_module_version": "1.2.0",
       "_view_name": "LayoutView",
       "align_content": null,
       "align_items": null,
       "align_self": null,
       "border": null,
       "bottom": null,
       "display": null,
       "flex": null,
       "flex_flow": null,
       "grid_area": null,
       "grid_auto_columns": null,
       "grid_auto_flow": null,
       "grid_auto_rows": null,
       "grid_column": null,
       "grid_gap": null,
       "grid_row": null,
       "grid_template_areas": null,
       "grid_template_columns": null,
       "grid_template_rows": null,
       "height": null,
       "justify_content": null,
       "justify_items": null,
       "left": null,
       "margin": null,
       "max_height": null,
       "max_width": null,
       "min_height": null,
       "min_width": null,
       "object_fit": null,
       "object_position": null,
       "order": null,
       "overflow": null,
       "overflow_x": null,
       "overflow_y": null,
       "padding": null,
       "right": null,
       "top": null,
       "visibility": null,
       "width": null
      }
     },
     "bceead494a1a40f7a518689f057b46ef": {
      "model_module": "@jupyter-widgets/base",
      "model_module_version": "1.2.0",
      "model_name": "LayoutModel",
      "state": {
       "_model_module": "@jupyter-widgets/base",
       "_model_module_version": "1.2.0",
       "_model_name": "LayoutModel",
       "_view_count": null,
       "_view_module": "@jupyter-widgets/base",
       "_view_module_version": "1.2.0",
       "_view_name": "LayoutView",
       "align_content": null,
       "align_items": null,
       "align_self": null,
       "border": null,
       "bottom": null,
       "display": null,
       "flex": null,
       "flex_flow": null,
       "grid_area": null,
       "grid_auto_columns": null,
       "grid_auto_flow": null,
       "grid_auto_rows": null,
       "grid_column": null,
       "grid_gap": null,
       "grid_row": null,
       "grid_template_areas": null,
       "grid_template_columns": null,
       "grid_template_rows": null,
       "height": null,
       "justify_content": null,
       "justify_items": null,
       "left": null,
       "margin": null,
       "max_height": null,
       "max_width": null,
       "min_height": null,
       "min_width": null,
       "object_fit": null,
       "object_position": null,
       "order": null,
       "overflow": null,
       "overflow_x": null,
       "overflow_y": null,
       "padding": null,
       "right": null,
       "top": null,
       "visibility": null,
       "width": null
      }
     },
     "c06fee4430254d008be5bf78040d31ba": {
      "model_module": "@jupyter-widgets/controls",
      "model_module_version": "1.5.0",
      "model_name": "ProgressStyleModel",
      "state": {
       "_model_module": "@jupyter-widgets/controls",
       "_model_module_version": "1.5.0",
       "_model_name": "ProgressStyleModel",
       "_view_count": null,
       "_view_module": "@jupyter-widgets/base",
       "_view_module_version": "1.2.0",
       "_view_name": "StyleView",
       "bar_color": null,
       "description_width": ""
      }
     },
     "c2844836615349e3b039cfdc4793968c": {
      "model_module": "@jupyter-widgets/controls",
      "model_module_version": "1.5.0",
      "model_name": "ProgressStyleModel",
      "state": {
       "_model_module": "@jupyter-widgets/controls",
       "_model_module_version": "1.5.0",
       "_model_name": "ProgressStyleModel",
       "_view_count": null,
       "_view_module": "@jupyter-widgets/base",
       "_view_module_version": "1.2.0",
       "_view_name": "StyleView",
       "bar_color": null,
       "description_width": ""
      }
     },
     "c45570d049fa4bc8958fc847552c614c": {
      "model_module": "@jupyter-widgets/controls",
      "model_module_version": "1.5.0",
      "model_name": "HTMLModel",
      "state": {
       "_dom_classes": [],
       "_model_module": "@jupyter-widgets/controls",
       "_model_module_version": "1.5.0",
       "_model_name": "HTMLModel",
       "_view_count": null,
       "_view_module": "@jupyter-widgets/controls",
       "_view_module_version": "1.5.0",
       "_view_name": "HTMLView",
       "description": "",
       "description_tooltip": null,
       "layout": "IPY_MODEL_cdade96fb7b94f699c8f1b1b806bc8c5",
       "placeholder": "​",
       "style": "IPY_MODEL_067128ace7d54018b7c2eb9347020315",
       "value": " 6/6 [00:09&lt;00:00,  1.57s/it]"
      }
     },
     "c77dc0f0b1ce4bde91d273b034bbc6fb": {
      "model_module": "@jupyter-widgets/controls",
      "model_module_version": "1.5.0",
      "model_name": "DescriptionStyleModel",
      "state": {
       "_model_module": "@jupyter-widgets/controls",
       "_model_module_version": "1.5.0",
       "_model_name": "DescriptionStyleModel",
       "_view_count": null,
       "_view_module": "@jupyter-widgets/base",
       "_view_module_version": "1.2.0",
       "_view_name": "StyleView",
       "description_width": ""
      }
     },
     "c9857af18ca84314914ad763a42526a3": {
      "model_module": "@jupyter-widgets/base",
      "model_module_version": "1.2.0",
      "model_name": "LayoutModel",
      "state": {
       "_model_module": "@jupyter-widgets/base",
       "_model_module_version": "1.2.0",
       "_model_name": "LayoutModel",
       "_view_count": null,
       "_view_module": "@jupyter-widgets/base",
       "_view_module_version": "1.2.0",
       "_view_name": "LayoutView",
       "align_content": null,
       "align_items": null,
       "align_self": null,
       "border": null,
       "bottom": null,
       "display": null,
       "flex": null,
       "flex_flow": null,
       "grid_area": null,
       "grid_auto_columns": null,
       "grid_auto_flow": null,
       "grid_auto_rows": null,
       "grid_column": null,
       "grid_gap": null,
       "grid_row": null,
       "grid_template_areas": null,
       "grid_template_columns": null,
       "grid_template_rows": null,
       "height": null,
       "justify_content": null,
       "justify_items": null,
       "left": null,
       "margin": null,
       "max_height": null,
       "max_width": null,
       "min_height": null,
       "min_width": null,
       "object_fit": null,
       "object_position": null,
       "order": null,
       "overflow": null,
       "overflow_x": null,
       "overflow_y": null,
       "padding": null,
       "right": null,
       "top": null,
       "visibility": null,
       "width": null
      }
     },
     "c9d47469257140ae833d68df6db6c88a": {
      "model_module": "@jupyter-widgets/controls",
      "model_module_version": "1.5.0",
      "model_name": "FloatProgressModel",
      "state": {
       "_dom_classes": [],
       "_model_module": "@jupyter-widgets/controls",
       "_model_module_version": "1.5.0",
       "_model_name": "FloatProgressModel",
       "_view_count": null,
       "_view_module": "@jupyter-widgets/controls",
       "_view_module_version": "1.5.0",
       "_view_name": "ProgressView",
       "bar_style": "success",
       "description": "",
       "description_tooltip": null,
       "layout": "IPY_MODEL_767e7294c7134f77a6fe58101faabacd",
       "max": 15.0,
       "min": 0.0,
       "orientation": "horizontal",
       "style": "IPY_MODEL_c2844836615349e3b039cfdc4793968c",
       "value": 15.0
      }
     },
     "ca8e65e6337f4f3395cf5f74b5420ccb": {
      "model_module": "@jupyter-widgets/base",
      "model_module_version": "1.2.0",
      "model_name": "LayoutModel",
      "state": {
       "_model_module": "@jupyter-widgets/base",
       "_model_module_version": "1.2.0",
       "_model_name": "LayoutModel",
       "_view_count": null,
       "_view_module": "@jupyter-widgets/base",
       "_view_module_version": "1.2.0",
       "_view_name": "LayoutView",
       "align_content": null,
       "align_items": null,
       "align_self": null,
       "border": null,
       "bottom": null,
       "display": null,
       "flex": null,
       "flex_flow": null,
       "grid_area": null,
       "grid_auto_columns": null,
       "grid_auto_flow": null,
       "grid_auto_rows": null,
       "grid_column": null,
       "grid_gap": null,
       "grid_row": null,
       "grid_template_areas": null,
       "grid_template_columns": null,
       "grid_template_rows": null,
       "height": null,
       "justify_content": null,
       "justify_items": null,
       "left": null,
       "margin": null,
       "max_height": null,
       "max_width": null,
       "min_height": null,
       "min_width": null,
       "object_fit": null,
       "object_position": null,
       "order": null,
       "overflow": null,
       "overflow_x": null,
       "overflow_y": null,
       "padding": null,
       "right": null,
       "top": null,
       "visibility": null,
       "width": null
      }
     },
     "cce526dfa83e4013a16f09f1230533c7": {
      "model_module": "@jupyter-widgets/controls",
      "model_module_version": "1.5.0",
      "model_name": "DescriptionStyleModel",
      "state": {
       "_model_module": "@jupyter-widgets/controls",
       "_model_module_version": "1.5.0",
       "_model_name": "DescriptionStyleModel",
       "_view_count": null,
       "_view_module": "@jupyter-widgets/base",
       "_view_module_version": "1.2.0",
       "_view_name": "StyleView",
       "description_width": ""
      }
     },
     "cdade96fb7b94f699c8f1b1b806bc8c5": {
      "model_module": "@jupyter-widgets/base",
      "model_module_version": "1.2.0",
      "model_name": "LayoutModel",
      "state": {
       "_model_module": "@jupyter-widgets/base",
       "_model_module_version": "1.2.0",
       "_model_name": "LayoutModel",
       "_view_count": null,
       "_view_module": "@jupyter-widgets/base",
       "_view_module_version": "1.2.0",
       "_view_name": "LayoutView",
       "align_content": null,
       "align_items": null,
       "align_self": null,
       "border": null,
       "bottom": null,
       "display": null,
       "flex": null,
       "flex_flow": null,
       "grid_area": null,
       "grid_auto_columns": null,
       "grid_auto_flow": null,
       "grid_auto_rows": null,
       "grid_column": null,
       "grid_gap": null,
       "grid_row": null,
       "grid_template_areas": null,
       "grid_template_columns": null,
       "grid_template_rows": null,
       "height": null,
       "justify_content": null,
       "justify_items": null,
       "left": null,
       "margin": null,
       "max_height": null,
       "max_width": null,
       "min_height": null,
       "min_width": null,
       "object_fit": null,
       "object_position": null,
       "order": null,
       "overflow": null,
       "overflow_x": null,
       "overflow_y": null,
       "padding": null,
       "right": null,
       "top": null,
       "visibility": null,
       "width": null
      }
     },
     "d0d1727bd00e4dc4b7537d27f598761d": {
      "model_module": "@jupyter-widgets/controls",
      "model_module_version": "1.5.0",
      "model_name": "DescriptionStyleModel",
      "state": {
       "_model_module": "@jupyter-widgets/controls",
       "_model_module_version": "1.5.0",
       "_model_name": "DescriptionStyleModel",
       "_view_count": null,
       "_view_module": "@jupyter-widgets/base",
       "_view_module_version": "1.2.0",
       "_view_name": "StyleView",
       "description_width": ""
      }
     },
     "d321df88ee66499a956f64c1837b1b06": {
      "model_module": "@jupyter-widgets/controls",
      "model_module_version": "1.5.0",
      "model_name": "FloatProgressModel",
      "state": {
       "_dom_classes": [],
       "_model_module": "@jupyter-widgets/controls",
       "_model_module_version": "1.5.0",
       "_model_name": "FloatProgressModel",
       "_view_count": null,
       "_view_module": "@jupyter-widgets/controls",
       "_view_module_version": "1.5.0",
       "_view_name": "ProgressView",
       "bar_style": "success",
       "description": "",
       "description_tooltip": null,
       "layout": "IPY_MODEL_bceead494a1a40f7a518689f057b46ef",
       "max": 15.0,
       "min": 0.0,
       "orientation": "horizontal",
       "style": "IPY_MODEL_c06fee4430254d008be5bf78040d31ba",
       "value": 15.0
      }
     },
     "d787fa02d33646f087e72e15a06341e2": {
      "model_module": "@jupyter-widgets/base",
      "model_module_version": "1.2.0",
      "model_name": "LayoutModel",
      "state": {
       "_model_module": "@jupyter-widgets/base",
       "_model_module_version": "1.2.0",
       "_model_name": "LayoutModel",
       "_view_count": null,
       "_view_module": "@jupyter-widgets/base",
       "_view_module_version": "1.2.0",
       "_view_name": "LayoutView",
       "align_content": null,
       "align_items": null,
       "align_self": null,
       "border": null,
       "bottom": null,
       "display": null,
       "flex": null,
       "flex_flow": null,
       "grid_area": null,
       "grid_auto_columns": null,
       "grid_auto_flow": null,
       "grid_auto_rows": null,
       "grid_column": null,
       "grid_gap": null,
       "grid_row": null,
       "grid_template_areas": null,
       "grid_template_columns": null,
       "grid_template_rows": null,
       "height": null,
       "justify_content": null,
       "justify_items": null,
       "left": null,
       "margin": null,
       "max_height": null,
       "max_width": null,
       "min_height": null,
       "min_width": null,
       "object_fit": null,
       "object_position": null,
       "order": null,
       "overflow": null,
       "overflow_x": null,
       "overflow_y": null,
       "padding": null,
       "right": null,
       "top": null,
       "visibility": null,
       "width": null
      }
     },
     "d9a83510d08f429d9cdce8499b6449f4": {
      "model_module": "@jupyter-widgets/controls",
      "model_module_version": "1.5.0",
      "model_name": "ProgressStyleModel",
      "state": {
       "_model_module": "@jupyter-widgets/controls",
       "_model_module_version": "1.5.0",
       "_model_name": "ProgressStyleModel",
       "_view_count": null,
       "_view_module": "@jupyter-widgets/base",
       "_view_module_version": "1.2.0",
       "_view_name": "StyleView",
       "bar_color": null,
       "description_width": ""
      }
     },
     "d9bceb5bdac14fbb9b6237b5fdba9ea3": {
      "model_module": "@jupyter-widgets/controls",
      "model_module_version": "1.5.0",
      "model_name": "HBoxModel",
      "state": {
       "_dom_classes": [],
       "_model_module": "@jupyter-widgets/controls",
       "_model_module_version": "1.5.0",
       "_model_name": "HBoxModel",
       "_view_count": null,
       "_view_module": "@jupyter-widgets/controls",
       "_view_module_version": "1.5.0",
       "_view_name": "HBoxView",
       "box_style": "",
       "children": [
        "IPY_MODEL_0cf549b84a4c4bc98fe60c95f7d40e4a",
        "IPY_MODEL_6f6c92a13a8a4cbfbbbed8ead98a1b2b",
        "IPY_MODEL_c45570d049fa4bc8958fc847552c614c"
       ],
       "layout": "IPY_MODEL_52dcc452e08244e188107c3566150b62"
      }
     },
     "db972a0166564bb3bc416ef42f59414e": {
      "model_module": "@jupyter-widgets/base",
      "model_module_version": "1.2.0",
      "model_name": "LayoutModel",
      "state": {
       "_model_module": "@jupyter-widgets/base",
       "_model_module_version": "1.2.0",
       "_model_name": "LayoutModel",
       "_view_count": null,
       "_view_module": "@jupyter-widgets/base",
       "_view_module_version": "1.2.0",
       "_view_name": "LayoutView",
       "align_content": null,
       "align_items": null,
       "align_self": null,
       "border": null,
       "bottom": null,
       "display": null,
       "flex": null,
       "flex_flow": null,
       "grid_area": null,
       "grid_auto_columns": null,
       "grid_auto_flow": null,
       "grid_auto_rows": null,
       "grid_column": null,
       "grid_gap": null,
       "grid_row": null,
       "grid_template_areas": null,
       "grid_template_columns": null,
       "grid_template_rows": null,
       "height": null,
       "justify_content": null,
       "justify_items": null,
       "left": null,
       "margin": null,
       "max_height": null,
       "max_width": null,
       "min_height": null,
       "min_width": null,
       "object_fit": null,
       "object_position": null,
       "order": null,
       "overflow": null,
       "overflow_x": null,
       "overflow_y": null,
       "padding": null,
       "right": null,
       "top": null,
       "visibility": null,
       "width": null
      }
     },
     "dbcd7917643841bd98467fb2e7b838b7": {
      "model_module": "@jupyter-widgets/base",
      "model_module_version": "1.2.0",
      "model_name": "LayoutModel",
      "state": {
       "_model_module": "@jupyter-widgets/base",
       "_model_module_version": "1.2.0",
       "_model_name": "LayoutModel",
       "_view_count": null,
       "_view_module": "@jupyter-widgets/base",
       "_view_module_version": "1.2.0",
       "_view_name": "LayoutView",
       "align_content": null,
       "align_items": null,
       "align_self": null,
       "border": null,
       "bottom": null,
       "display": null,
       "flex": null,
       "flex_flow": null,
       "grid_area": null,
       "grid_auto_columns": null,
       "grid_auto_flow": null,
       "grid_auto_rows": null,
       "grid_column": null,
       "grid_gap": null,
       "grid_row": null,
       "grid_template_areas": null,
       "grid_template_columns": null,
       "grid_template_rows": null,
       "height": null,
       "justify_content": null,
       "justify_items": null,
       "left": null,
       "margin": null,
       "max_height": null,
       "max_width": null,
       "min_height": null,
       "min_width": null,
       "object_fit": null,
       "object_position": null,
       "order": null,
       "overflow": null,
       "overflow_x": null,
       "overflow_y": null,
       "padding": null,
       "right": null,
       "top": null,
       "visibility": null,
       "width": null
      }
     },
     "deb3cffafca040ee8bf3e622722023be": {
      "model_module": "@jupyter-widgets/base",
      "model_module_version": "1.2.0",
      "model_name": "LayoutModel",
      "state": {
       "_model_module": "@jupyter-widgets/base",
       "_model_module_version": "1.2.0",
       "_model_name": "LayoutModel",
       "_view_count": null,
       "_view_module": "@jupyter-widgets/base",
       "_view_module_version": "1.2.0",
       "_view_name": "LayoutView",
       "align_content": null,
       "align_items": null,
       "align_self": null,
       "border": null,
       "bottom": null,
       "display": null,
       "flex": null,
       "flex_flow": null,
       "grid_area": null,
       "grid_auto_columns": null,
       "grid_auto_flow": null,
       "grid_auto_rows": null,
       "grid_column": null,
       "grid_gap": null,
       "grid_row": null,
       "grid_template_areas": null,
       "grid_template_columns": null,
       "grid_template_rows": null,
       "height": null,
       "justify_content": null,
       "justify_items": null,
       "left": null,
       "margin": null,
       "max_height": null,
       "max_width": null,
       "min_height": null,
       "min_width": null,
       "object_fit": null,
       "object_position": null,
       "order": null,
       "overflow": null,
       "overflow_x": null,
       "overflow_y": null,
       "padding": null,
       "right": null,
       "top": null,
       "visibility": null,
       "width": null
      }
     },
     "e0fff51d599249438364fe403ce4fb65": {
      "model_module": "@jupyter-widgets/controls",
      "model_module_version": "1.5.0",
      "model_name": "HTMLModel",
      "state": {
       "_dom_classes": [],
       "_model_module": "@jupyter-widgets/controls",
       "_model_module_version": "1.5.0",
       "_model_name": "HTMLModel",
       "_view_count": null,
       "_view_module": "@jupyter-widgets/controls",
       "_view_module_version": "1.5.0",
       "_view_name": "HTMLView",
       "description": "",
       "description_tooltip": null,
       "layout": "IPY_MODEL_db972a0166564bb3bc416ef42f59414e",
       "placeholder": "​",
       "style": "IPY_MODEL_d0d1727bd00e4dc4b7537d27f598761d",
       "value": "100%"
      }
     },
     "e4a9544a84d145389d9af77394b0def2": {
      "model_module": "@jupyter-widgets/base",
      "model_module_version": "1.2.0",
      "model_name": "LayoutModel",
      "state": {
       "_model_module": "@jupyter-widgets/base",
       "_model_module_version": "1.2.0",
       "_model_name": "LayoutModel",
       "_view_count": null,
       "_view_module": "@jupyter-widgets/base",
       "_view_module_version": "1.2.0",
       "_view_name": "LayoutView",
       "align_content": null,
       "align_items": null,
       "align_self": null,
       "border": null,
       "bottom": null,
       "display": null,
       "flex": null,
       "flex_flow": null,
       "grid_area": null,
       "grid_auto_columns": null,
       "grid_auto_flow": null,
       "grid_auto_rows": null,
       "grid_column": null,
       "grid_gap": null,
       "grid_row": null,
       "grid_template_areas": null,
       "grid_template_columns": null,
       "grid_template_rows": null,
       "height": null,
       "justify_content": null,
       "justify_items": null,
       "left": null,
       "margin": null,
       "max_height": null,
       "max_width": null,
       "min_height": null,
       "min_width": null,
       "object_fit": null,
       "object_position": null,
       "order": null,
       "overflow": null,
       "overflow_x": null,
       "overflow_y": null,
       "padding": null,
       "right": null,
       "top": null,
       "visibility": null,
       "width": null
      }
     },
     "e59651f7c77b4cd0a1c1b8329e507a21": {
      "model_module": "@jupyter-widgets/controls",
      "model_module_version": "1.5.0",
      "model_name": "HTMLModel",
      "state": {
       "_dom_classes": [],
       "_model_module": "@jupyter-widgets/controls",
       "_model_module_version": "1.5.0",
       "_model_name": "HTMLModel",
       "_view_count": null,
       "_view_module": "@jupyter-widgets/controls",
       "_view_module_version": "1.5.0",
       "_view_name": "HTMLView",
       "description": "",
       "description_tooltip": null,
       "layout": "IPY_MODEL_c9857af18ca84314914ad763a42526a3",
       "placeholder": "​",
       "style": "IPY_MODEL_ead73b899e0744719dc45f8bed3d90a4",
       "value": " 15/15 [00:01&lt;00:00,  8.66it/s]"
      }
     },
     "ead73b899e0744719dc45f8bed3d90a4": {
      "model_module": "@jupyter-widgets/controls",
      "model_module_version": "1.5.0",
      "model_name": "DescriptionStyleModel",
      "state": {
       "_model_module": "@jupyter-widgets/controls",
       "_model_module_version": "1.5.0",
       "_model_name": "DescriptionStyleModel",
       "_view_count": null,
       "_view_module": "@jupyter-widgets/base",
       "_view_module_version": "1.2.0",
       "_view_name": "StyleView",
       "description_width": ""
      }
     },
     "f79ef5edb11a4b08b755ee1b3d6de485": {
      "model_module": "@jupyter-widgets/controls",
      "model_module_version": "1.5.0",
      "model_name": "DescriptionStyleModel",
      "state": {
       "_model_module": "@jupyter-widgets/controls",
       "_model_module_version": "1.5.0",
       "_model_name": "DescriptionStyleModel",
       "_view_count": null,
       "_view_module": "@jupyter-widgets/base",
       "_view_module_version": "1.2.0",
       "_view_name": "StyleView",
       "description_width": ""
      }
     },
     "fe27e4aabb9f4c8a9e59161b6b8ac414": {
      "model_module": "@jupyter-widgets/controls",
      "model_module_version": "1.5.0",
      "model_name": "HBoxModel",
      "state": {
       "_dom_classes": [],
       "_model_module": "@jupyter-widgets/controls",
       "_model_module_version": "1.5.0",
       "_model_name": "HBoxModel",
       "_view_count": null,
       "_view_module": "@jupyter-widgets/controls",
       "_view_module_version": "1.5.0",
       "_view_name": "HBoxView",
       "box_style": "",
       "children": [
        "IPY_MODEL_b363a13f518c49c79a8875f3602f37bb",
        "IPY_MODEL_d321df88ee66499a956f64c1837b1b06",
        "IPY_MODEL_4e1573440785488286ff24b831e15306"
       ],
       "layout": "IPY_MODEL_deb3cffafca040ee8bf3e622722023be"
      }
     }
    },
    "version_major": 2,
    "version_minor": 0
   }
  }
 },
 "nbformat": 4,
 "nbformat_minor": 5
}
